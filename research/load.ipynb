{
 "cells": [
  {
   "cell_type": "code",
   "execution_count": 1,
   "id": "d6599cd6",
   "metadata": {
    "ExecuteTime": {
     "end_time": "2021-06-17T05:12:26.090251Z",
     "start_time": "2021-06-17T05:12:25.523951Z"
    }
   },
   "outputs": [],
   "source": [
    "import sqlite3 as sql\n",
    "from sqlalchemy import *\n",
    "import pandas as pd\n",
    "pd.set_option('display.max_columns', None)\n",
    "pd.set_option('display.max_rows', None)"
   ]
  },
  {
   "cell_type": "code",
   "execution_count": 2,
   "id": "d0532a5b",
   "metadata": {
    "ExecuteTime": {
     "end_time": "2021-06-17T05:12:27.740826Z",
     "start_time": "2021-06-17T05:12:26.092005Z"
    },
    "scrolled": true
   },
   "outputs": [],
   "source": [
    "conn = sql.connect('staging_db.db')\n",
    "data = pd.read_sql_query(\"SELECT * FROM frequentation\", conn)"
   ]
  },
  {
   "cell_type": "code",
   "execution_count": 3,
   "id": "ec2c28b0",
   "metadata": {
    "ExecuteTime": {
     "end_time": "2021-06-17T05:12:27.809191Z",
     "start_time": "2021-06-17T05:12:27.742866Z"
    }
   },
   "outputs": [
    {
     "data": {
      "text/html": [
       "<div>\n",
       "<style scoped>\n",
       "    .dataframe tbody tr th:only-of-type {\n",
       "        vertical-align: middle;\n",
       "    }\n",
       "\n",
       "    .dataframe tbody tr th {\n",
       "        vertical-align: top;\n",
       "    }\n",
       "\n",
       "    .dataframe thead th {\n",
       "        text-align: right;\n",
       "    }\n",
       "</style>\n",
       "<table border=\"1\" class=\"dataframe\">\n",
       "  <thead>\n",
       "    <tr style=\"text-align: right;\">\n",
       "      <th></th>\n",
       "      <th>index</th>\n",
       "      <th>site_type</th>\n",
       "      <th>date</th>\n",
       "      <th>prevision</th>\n",
       "      <th>reel</th>\n",
       "      <th>cantine_nom</th>\n",
       "      <th>annee_scolaire</th>\n",
       "      <th>Effectif</th>\n",
       "      <th>vacances_dans</th>\n",
       "      <th>depuis_vacances</th>\n",
       "      <th>ferie_dans</th>\n",
       "      <th>depuis_ferie</th>\n",
       "      <th>chretiennes_dans</th>\n",
       "      <th>depuis_chretiennes</th>\n",
       "      <th>juives_dans</th>\n",
       "      <th>depuis_juives</th>\n",
       "      <th>ramadan_dans</th>\n",
       "      <th>depuis_ramadan</th>\n",
       "      <th>musulmanes_dans</th>\n",
       "      <th>depuis_musulmanes</th>\n",
       "      <th>chretiennes</th>\n",
       "      <th>juives</th>\n",
       "      <th>ramadan</th>\n",
       "      <th>musulmanes</th>\n",
       "      <th>greve</th>\n",
       "      <th>Quartier_detail</th>\n",
       "      <th>prix_Quartier_detail_m2_appart</th>\n",
       "      <th>prix_moyen_m2_appartement</th>\n",
       "      <th>prix_moyen_m2_maison</th>\n",
       "      <th>Longitude</th>\n",
       "      <th>Latitude</th>\n",
       "      <th>Plat</th>\n",
       "    </tr>\n",
       "  </thead>\n",
       "  <tbody>\n",
       "    <tr>\n",
       "      <th>0</th>\n",
       "      <td>0</td>\n",
       "      <td>M/E</td>\n",
       "      <td>2011-01-03</td>\n",
       "      <td>210.0</td>\n",
       "      <td>182.0</td>\n",
       "      <td>AMPERE</td>\n",
       "      <td>2010-2011</td>\n",
       "      <td>280</td>\n",
       "      <td>54</td>\n",
       "      <td>0</td>\n",
       "      <td>112</td>\n",
       "      <td>0</td>\n",
       "      <td>3</td>\n",
       "      <td>0</td>\n",
       "      <td>76</td>\n",
       "      <td>0</td>\n",
       "      <td>210</td>\n",
       "      <td>0</td>\n",
       "      <td>43</td>\n",
       "      <td>0</td>\n",
       "      <td>0</td>\n",
       "      <td>0</td>\n",
       "      <td>0</td>\n",
       "      <td>0</td>\n",
       "      <td>0</td>\n",
       "      <td>Zola</td>\n",
       "      <td>3424.0</td>\n",
       "      <td>3436.0</td>\n",
       "      <td>4226.0</td>\n",
       "      <td>1.5847</td>\n",
       "      <td>47.2115</td>\n",
       "      <td>hachis parmentier pamplemousse salade verte fl...</td>\n",
       "    </tr>\n",
       "    <tr>\n",
       "      <th>1</th>\n",
       "      <td>1</td>\n",
       "      <td>M/E</td>\n",
       "      <td>2011-01-03</td>\n",
       "      <td>100.0</td>\n",
       "      <td>93.0</td>\n",
       "      <td>JACQUES TATI</td>\n",
       "      <td>2010-2011</td>\n",
       "      <td>185</td>\n",
       "      <td>54</td>\n",
       "      <td>0</td>\n",
       "      <td>112</td>\n",
       "      <td>0</td>\n",
       "      <td>3</td>\n",
       "      <td>0</td>\n",
       "      <td>76</td>\n",
       "      <td>0</td>\n",
       "      <td>210</td>\n",
       "      <td>0</td>\n",
       "      <td>43</td>\n",
       "      <td>0</td>\n",
       "      <td>0</td>\n",
       "      <td>0</td>\n",
       "      <td>0</td>\n",
       "      <td>0</td>\n",
       "      <td>0</td>\n",
       "      <td>Nantes Sud</td>\n",
       "      <td>3155.0</td>\n",
       "      <td>3270.0</td>\n",
       "      <td>3419.0</td>\n",
       "      <td>1.5267</td>\n",
       "      <td>47.1948</td>\n",
       "      <td>hachis parmentier pamplemousse salade verte fl...</td>\n",
       "    </tr>\n",
       "    <tr>\n",
       "      <th>2</th>\n",
       "      <td>2</td>\n",
       "      <td>M/E</td>\n",
       "      <td>2011-01-03</td>\n",
       "      <td>267.0</td>\n",
       "      <td>241.0</td>\n",
       "      <td>FRANCOIS DALLET/DOCTEUR TEILLAIS</td>\n",
       "      <td>2010-2011</td>\n",
       "      <td>339</td>\n",
       "      <td>54</td>\n",
       "      <td>0</td>\n",
       "      <td>112</td>\n",
       "      <td>0</td>\n",
       "      <td>3</td>\n",
       "      <td>0</td>\n",
       "      <td>76</td>\n",
       "      <td>0</td>\n",
       "      <td>210</td>\n",
       "      <td>0</td>\n",
       "      <td>43</td>\n",
       "      <td>0</td>\n",
       "      <td>0</td>\n",
       "      <td>0</td>\n",
       "      <td>0</td>\n",
       "      <td>0</td>\n",
       "      <td>0</td>\n",
       "      <td>None</td>\n",
       "      <td>NaN</td>\n",
       "      <td>NaN</td>\n",
       "      <td>NaN</td>\n",
       "      <td>NaN</td>\n",
       "      <td>NaN</td>\n",
       "      <td>hachis parmentier pamplemousse salade verte fl...</td>\n",
       "    </tr>\n",
       "    <tr>\n",
       "      <th>3</th>\n",
       "      <td>3</td>\n",
       "      <td>M/E</td>\n",
       "      <td>2011-01-03</td>\n",
       "      <td>197.0</td>\n",
       "      <td>184.0</td>\n",
       "      <td>HAROUYS</td>\n",
       "      <td>2010-2011</td>\n",
       "      <td>256</td>\n",
       "      <td>54</td>\n",
       "      <td>0</td>\n",
       "      <td>112</td>\n",
       "      <td>0</td>\n",
       "      <td>3</td>\n",
       "      <td>0</td>\n",
       "      <td>76</td>\n",
       "      <td>0</td>\n",
       "      <td>210</td>\n",
       "      <td>0</td>\n",
       "      <td>43</td>\n",
       "      <td>0</td>\n",
       "      <td>0</td>\n",
       "      <td>0</td>\n",
       "      <td>0</td>\n",
       "      <td>0</td>\n",
       "      <td>0</td>\n",
       "      <td>Hauts Pavés - Saint Félix</td>\n",
       "      <td>4131.0</td>\n",
       "      <td>4373.0</td>\n",
       "      <td>5454.0</td>\n",
       "      <td>1.5651</td>\n",
       "      <td>47.2183</td>\n",
       "      <td>hachis parmentier pamplemousse salade verte fl...</td>\n",
       "    </tr>\n",
       "    <tr>\n",
       "      <th>4</th>\n",
       "      <td>4</td>\n",
       "      <td>M/E</td>\n",
       "      <td>2011-01-03</td>\n",
       "      <td>271.0</td>\n",
       "      <td>227.0</td>\n",
       "      <td>LOUISE MICHEL</td>\n",
       "      <td>2010-2011</td>\n",
       "      <td>365</td>\n",
       "      <td>54</td>\n",
       "      <td>0</td>\n",
       "      <td>112</td>\n",
       "      <td>0</td>\n",
       "      <td>3</td>\n",
       "      <td>0</td>\n",
       "      <td>76</td>\n",
       "      <td>0</td>\n",
       "      <td>210</td>\n",
       "      <td>0</td>\n",
       "      <td>43</td>\n",
       "      <td>0</td>\n",
       "      <td>0</td>\n",
       "      <td>0</td>\n",
       "      <td>0</td>\n",
       "      <td>0</td>\n",
       "      <td>0</td>\n",
       "      <td>Ile de Nantes</td>\n",
       "      <td>3207.0</td>\n",
       "      <td>2972.0</td>\n",
       "      <td>3999.0</td>\n",
       "      <td>1.5310</td>\n",
       "      <td>47.2057</td>\n",
       "      <td>hachis parmentier pamplemousse salade verte fl...</td>\n",
       "    </tr>\n",
       "  </tbody>\n",
       "</table>\n",
       "</div>"
      ],
      "text/plain": [
       "   index site_type       date  prevision   reel  \\\n",
       "0      0       M/E 2011-01-03      210.0  182.0   \n",
       "1      1       M/E 2011-01-03      100.0   93.0   \n",
       "2      2       M/E 2011-01-03      267.0  241.0   \n",
       "3      3       M/E 2011-01-03      197.0  184.0   \n",
       "4      4       M/E 2011-01-03      271.0  227.0   \n",
       "\n",
       "                        cantine_nom annee_scolaire  Effectif  vacances_dans  \\\n",
       "0                            AMPERE      2010-2011       280             54   \n",
       "1                      JACQUES TATI      2010-2011       185             54   \n",
       "2  FRANCOIS DALLET/DOCTEUR TEILLAIS      2010-2011       339             54   \n",
       "3                           HAROUYS      2010-2011       256             54   \n",
       "4                     LOUISE MICHEL      2010-2011       365             54   \n",
       "\n",
       "   depuis_vacances  ferie_dans  depuis_ferie  chretiennes_dans  \\\n",
       "0                0         112             0                 3   \n",
       "1                0         112             0                 3   \n",
       "2                0         112             0                 3   \n",
       "3                0         112             0                 3   \n",
       "4                0         112             0                 3   \n",
       "\n",
       "   depuis_chretiennes  juives_dans  depuis_juives  ramadan_dans  \\\n",
       "0                   0           76              0           210   \n",
       "1                   0           76              0           210   \n",
       "2                   0           76              0           210   \n",
       "3                   0           76              0           210   \n",
       "4                   0           76              0           210   \n",
       "\n",
       "   depuis_ramadan  musulmanes_dans  depuis_musulmanes  chretiennes  juives  \\\n",
       "0               0               43                  0            0       0   \n",
       "1               0               43                  0            0       0   \n",
       "2               0               43                  0            0       0   \n",
       "3               0               43                  0            0       0   \n",
       "4               0               43                  0            0       0   \n",
       "\n",
       "   ramadan  musulmanes  greve            Quartier_detail  \\\n",
       "0        0           0      0                       Zola   \n",
       "1        0           0      0                 Nantes Sud   \n",
       "2        0           0      0                       None   \n",
       "3        0           0      0  Hauts Pavés - Saint Félix   \n",
       "4        0           0      0              Ile de Nantes   \n",
       "\n",
       "   prix_Quartier_detail_m2_appart  prix_moyen_m2_appartement  \\\n",
       "0                          3424.0                     3436.0   \n",
       "1                          3155.0                     3270.0   \n",
       "2                             NaN                        NaN   \n",
       "3                          4131.0                     4373.0   \n",
       "4                          3207.0                     2972.0   \n",
       "\n",
       "   prix_moyen_m2_maison  Longitude  Latitude  \\\n",
       "0                4226.0     1.5847   47.2115   \n",
       "1                3419.0     1.5267   47.1948   \n",
       "2                   NaN        NaN       NaN   \n",
       "3                5454.0     1.5651   47.2183   \n",
       "4                3999.0     1.5310   47.2057   \n",
       "\n",
       "                                                Plat  \n",
       "0  hachis parmentier pamplemousse salade verte fl...  \n",
       "1  hachis parmentier pamplemousse salade verte fl...  \n",
       "2  hachis parmentier pamplemousse salade verte fl...  \n",
       "3  hachis parmentier pamplemousse salade verte fl...  \n",
       "4  hachis parmentier pamplemousse salade verte fl...  "
      ]
     },
     "execution_count": 3,
     "metadata": {},
     "output_type": "execute_result"
    }
   ],
   "source": [
    "data[\"date\"] = pd.to_datetime(data[\"date\"])\n",
    "data.head()"
   ]
  },
  {
   "cell_type": "markdown",
   "id": "e71a2151",
   "metadata": {},
   "source": [
    "## Construction des dataframes qui vont alimenter le DTWH"
   ]
  },
  {
   "cell_type": "code",
   "execution_count": 4,
   "id": "6e2113b2",
   "metadata": {
    "ExecuteTime": {
     "end_time": "2021-06-17T05:12:27.814957Z",
     "start_time": "2021-06-17T05:12:27.811682Z"
    }
   },
   "outputs": [],
   "source": [
    "data.rename(columns={\"Effectif\": \"effectif\", \"Quartier_detail\": \"quartier_detail\", \"prix_Quartier_detail_m2_appart\":\n",
    "          \"prix_quartier_detail_m2_appart\", \"Longitude\": \"longitude\", \"Latitude\": \"latitude\", \"Plat\": \"plats\"}, inplace=True)"
   ]
  },
  {
   "cell_type": "code",
   "execution_count": 5,
   "id": "db728f3b",
   "metadata": {
    "ExecuteTime": {
     "end_time": "2021-06-17T05:12:27.884136Z",
     "start_time": "2021-06-17T05:12:27.816479Z"
    }
   },
   "outputs": [],
   "source": [
    "# setting up the foreign key in fact table for dim_site\n",
    "data['site_id'] = data['cantine_nom'] + '_' + data['annee_scolaire']\n",
    "data['site_id'] = pd.Categorical(data['site_id']).codes + 1\n",
    "\n",
    "# setting up the foreign key in fact table for all other dimensions\n",
    "data[\"date\"] = pd.to_datetime(data[\"date\"])\n",
    "data['jour_id'] = pd.Categorical(data['date']).codes + 1"
   ]
  },
  {
   "cell_type": "code",
   "execution_count": 6,
   "id": "65e51812",
   "metadata": {
    "ExecuteTime": {
     "end_time": "2021-06-17T05:12:27.914312Z",
     "start_time": "2021-06-17T05:12:27.886024Z"
    }
   },
   "outputs": [],
   "source": [
    "# table de faits\n",
    "frequentation_quotidienne_df = data[[\n",
    "    'jour_id', 'site_id', 'date', 'prevision', 'reel']]\n",
    "\n",
    "# dimension géographique\n",
    "dim_site_df = data[['site_type', 'cantine_nom', 'annee_scolaire',\n",
    "                    'effectif', 'quartier_detail', 'prix_quartier_detail_m2_appart',\n",
    "                    'prix_moyen_m2_appartement', 'prix_moyen_m2_maison', 'longitude', 'latitude']]\n",
    "\n",
    "# dimension menus\n",
    "dim_menu_df = data[['date', 'plats']]\n",
    "\n",
    "# dimension temporelle\n",
    "dim_temporelle_df = data[['date', 'vacances_dans', 'depuis_vacances',\n",
    "                          'ferie_dans', 'depuis_ferie', 'chretiennes_dans', 'depuis_chretiennes',\n",
    "                          'juives_dans', 'depuis_juives', 'ramadan_dans', 'depuis_ramadan',\n",
    "                          'musulmanes_dans', 'depuis_musulmanes']]\n",
    "\n",
    "# dimension événement\n",
    "dim_events_df = data[['date', 'chretiennes', 'juives',\n",
    "                      'ramadan', 'musulmanes', 'greve']]"
   ]
  },
  {
   "cell_type": "code",
   "execution_count": 7,
   "id": "22d74280",
   "metadata": {
    "ExecuteTime": {
     "end_time": "2021-06-17T05:12:28.003588Z",
     "start_time": "2021-06-17T05:12:27.916237Z"
    }
   },
   "outputs": [
    {
     "name": "stdout",
     "output_type": "stream",
     "text": [
      "(774, 10)\n",
      "(1188, 2)\n",
      "(1188, 13)\n",
      "(1188, 6)\n"
     ]
    },
    {
     "name": "stderr",
     "output_type": "stream",
     "text": [
      "/home/quentin/.local/lib/python3.6/site-packages/ipykernel_launcher.py:2: SettingWithCopyWarning: \n",
      "A value is trying to be set on a copy of a slice from a DataFrame\n",
      "\n",
      "See the caveats in the documentation: https://pandas.pydata.org/pandas-docs/stable/user_guide/indexing.html#returning-a-view-versus-a-copy\n",
      "  \n",
      "/home/quentin/.local/lib/python3.6/site-packages/ipykernel_launcher.py:3: SettingWithCopyWarning: \n",
      "A value is trying to be set on a copy of a slice from a DataFrame\n",
      "\n",
      "See the caveats in the documentation: https://pandas.pydata.org/pandas-docs/stable/user_guide/indexing.html#returning-a-view-versus-a-copy\n",
      "  This is separate from the ipykernel package so we can avoid doing imports until\n",
      "/home/quentin/.local/lib/python3.6/site-packages/ipykernel_launcher.py:4: SettingWithCopyWarning: \n",
      "A value is trying to be set on a copy of a slice from a DataFrame\n",
      "\n",
      "See the caveats in the documentation: https://pandas.pydata.org/pandas-docs/stable/user_guide/indexing.html#returning-a-view-versus-a-copy\n",
      "  after removing the cwd from sys.path.\n",
      "/home/quentin/.local/lib/python3.6/site-packages/ipykernel_launcher.py:5: SettingWithCopyWarning: \n",
      "A value is trying to be set on a copy of a slice from a DataFrame\n",
      "\n",
      "See the caveats in the documentation: https://pandas.pydata.org/pandas-docs/stable/user_guide/indexing.html#returning-a-view-versus-a-copy\n",
      "  \"\"\"\n"
     ]
    }
   ],
   "source": [
    "# drop duplicates to get the full benefit in term of efficiency\n",
    "dim_site_df.drop_duplicates(inplace=True)\n",
    "dim_menu_df.drop_duplicates(inplace=True)\n",
    "dim_temporelle_df.drop_duplicates(inplace=True)\n",
    "dim_events_df.drop_duplicates(inplace=True)\n",
    "\n",
    "print(dim_site_df.shape)\n",
    "print(dim_menu_df.shape)\n",
    "print(dim_temporelle_df.shape)\n",
    "print(dim_events_df.shape)"
   ]
  },
  {
   "cell_type": "markdown",
   "id": "f0950317",
   "metadata": {},
   "source": [
    "## Construction des tables SQL qui vont constituer le DTWH"
   ]
  },
  {
   "cell_type": "code",
   "execution_count": 8,
   "id": "2fb47219",
   "metadata": {
    "ExecuteTime": {
     "end_time": "2021-06-17T05:12:28.450705Z",
     "start_time": "2021-06-17T05:12:28.006100Z"
    }
   },
   "outputs": [],
   "source": [
    "# create a connector to the db\n",
    "conn = sql.connect('frequentation_dtwh.db')\n",
    "\n",
    "# drop table if exist\n",
    "cursor = conn.cursor()\n",
    "for table in [ 'Frequentation_quotidienne', 'Dim_site', 'Dim_menu', 'Dim_temporelle', 'Dim_evenement']:\n",
    "    command = \"DROP TABLE IF EXISTS {};\".format(table)\n",
    "    cursor.execute(command)\n",
    "conn.commit()\n",
    "cursor.close()"
   ]
  },
  {
   "cell_type": "code",
   "execution_count": 9,
   "id": "e14ec060",
   "metadata": {
    "ExecuteTime": {
     "end_time": "2021-06-17T05:12:28.457793Z",
     "start_time": "2021-06-17T05:12:28.453137Z"
    }
   },
   "outputs": [
    {
     "data": {
      "text/plain": [
       "Index(['index', 'site_type', 'date', 'prevision', 'reel', 'cantine_nom',\n",
       "       'annee_scolaire', 'effectif', 'vacances_dans', 'depuis_vacances',\n",
       "       'ferie_dans', 'depuis_ferie', 'chretiennes_dans', 'depuis_chretiennes',\n",
       "       'juives_dans', 'depuis_juives', 'ramadan_dans', 'depuis_ramadan',\n",
       "       'musulmanes_dans', 'depuis_musulmanes', 'chretiennes', 'juives',\n",
       "       'ramadan', 'musulmanes', 'greve', 'quartier_detail',\n",
       "       'prix_quartier_detail_m2_appart', 'prix_moyen_m2_appartement',\n",
       "       'prix_moyen_m2_maison', 'longitude', 'latitude', 'plats', 'site_id',\n",
       "       'jour_id'],\n",
       "      dtype='object')"
      ]
     },
     "execution_count": 9,
     "metadata": {},
     "output_type": "execute_result"
    }
   ],
   "source": [
    "data.columns"
   ]
  },
  {
   "cell_type": "code",
   "execution_count": 10,
   "id": "2638f40f",
   "metadata": {
    "ExecuteTime": {
     "end_time": "2021-06-17T05:12:28.601848Z",
     "start_time": "2021-06-17T05:12:28.460333Z"
    }
   },
   "outputs": [],
   "source": [
    "cursor = conn.cursor()\n",
    "\n",
    "# Create Dim_temporelle\n",
    "cursor.execute('''CREATE TABLE IF NOT EXISTS `Dim_temporelle` (\n",
    "  `jour_id` INTEGER PRIMARY KEY AUTOINCREMENT,\n",
    "  `date` DATE NOT NULL,\n",
    "  `vacances_dans` INTEGER NULL,\n",
    "  `depuis_vacances` INTEGER NULL,\n",
    "  `ferie_dans` INTEGER NULL,\n",
    "  `depuis_ferie` INTEGER NULL,\n",
    "  `chretiennes_dans` INTEGER NULL,\n",
    "  `depuis_chretiennes` INTEGER NULL,\n",
    "  `musulmanes_dans` INTEGER NULL,\n",
    "  `depuis_musulmanes` INTEGER NULL,\n",
    "  `ramadan_dans` INTEGER NULL,\n",
    "  `depuis_ramadan` INTEGER NULL,\n",
    "  `juives_dans` INTEGER NULL,\n",
    "  `depuis_juives` INTEGER NULL);\n",
    "  ''')\n",
    "     \n",
    "# Create Dim_site\n",
    "cursor.execute('''CREATE TABLE IF NOT EXISTS `Dim_site` (\n",
    "  `site_id` INTEGER PRIMARY KEY AUTOINCREMENT,\n",
    "  `site_type` VARCHAR(5) NULL,\n",
    "  `cantine_nom` VARCHAR(50) NULL,\n",
    "  `annee_scolaire` VARCHAR(30) NULL,\n",
    "  `effectif` INTEGER NULL,\n",
    "  `quartier_detail` VARCHAR(30) NULL,\n",
    "  `prix_quartier_detail_m2_appart` INTEGER NULL,\n",
    "  `prix_moyen_m2_appartement` INTEGER NULL,\n",
    "  `prix_moyen_m2_maison` INTEGER NULL,\n",
    "  `longitude` FLOAT NULL,\n",
    "  `latitude` FLOAT NULL);\n",
    "  ''')\n",
    "        \n",
    "# Create Dim_menu\n",
    "cursor.execute('''CREATE TABLE IF NOT EXISTS `Dim_menu` (\n",
    "  `jour_id` INTEGER PRIMARY KEY AUTOINCREMENT,\n",
    "  `date` DATE NOT NULL,\n",
    "  `plats` VARCHAR(200) NULL);\n",
    "  ''')\n",
    "\n",
    "# Create Dim_evenement\n",
    "cursor.execute('''CREATE TABLE IF NOT EXISTS `Dim_evenement` (\n",
    "  `jour_id` INTEGER PRIMARY KEY AUTOINCREMENT,\n",
    "  `date` DATE NOT NULL,\n",
    "  `chretiennes` TINYINT(1) NULL,\n",
    "  `juives` TINYINT(1) NULL,\n",
    "  `ramadan` TINYINT(1) NULL,\n",
    "  `musulmanes` TINYINT(1) NULL,\n",
    "  `greve` TINYINT(1) NULL);\n",
    "  ''')\n",
    "\n",
    "\n",
    "# Create fact table\n",
    "cursor.execute('''CREATE TABLE IF NOT EXISTS `Frequentation_quotidienne` (\n",
    "  `jour_site_id` INTEGER PRIMARY KEY AUTOINCREMENT,\n",
    "  `date` DATE NOT NULL,\n",
    "  `reel` INT NULL,\n",
    "  `prevision` INT NULL,\n",
    "  `jour_id` INT NOT NULL,\n",
    "  `site_id` INT NOT NULL,\n",
    "  CONSTRAINT `jour_id`\n",
    "    FOREIGN KEY (`jour_id`)\n",
    "    REFERENCES `Dim_temporelle` (`jour_id`)\n",
    "    ON DELETE NO ACTION\n",
    "    ON UPDATE NO ACTION,\n",
    "  CONSTRAINT `site_id`\n",
    "    FOREIGN KEY (`site_id`)\n",
    "    REFERENCES `Dim_site` (`site_id`)\n",
    "    ON DELETE NO ACTION\n",
    "    ON UPDATE NO ACTION,\n",
    "  CONSTRAINT `fk_Frequentation_quotidienne_Dim_menu1`\n",
    "    FOREIGN KEY (`jour_id`)\n",
    "    REFERENCES `Dim_menu` (`jour_id`)\n",
    "    ON DELETE NO ACTION\n",
    "    ON UPDATE NO ACTION,\n",
    "  CONSTRAINT `fk_Frequentation_quotidienne_Dim_evenement1`\n",
    "    FOREIGN KEY (`jour_id`)\n",
    "    REFERENCES `Dim_evenement` (`jour_id`)\n",
    "    ON DELETE NO ACTION\n",
    "    ON UPDATE NO ACTION);\n",
    "    ''')\n",
    "\n",
    "\n",
    "# create index on date for faster retrieval\n",
    "cursor.execute(''' CREATE INDEX date \n",
    "ON Frequentation_quotidienne(date); ''')\n",
    "                 \n",
    "conn.commit()\n"
   ]
  },
  {
   "cell_type": "markdown",
   "id": "c92ec257",
   "metadata": {},
   "source": [
    "## Insertion des données dans le DTWH"
   ]
  },
  {
   "cell_type": "code",
   "execution_count": 11,
   "id": "e6c5ac0e",
   "metadata": {
    "ExecuteTime": {
     "end_time": "2021-06-17T05:12:29.313398Z",
     "start_time": "2021-06-17T05:12:28.604138Z"
    }
   },
   "outputs": [],
   "source": [
    "# insertion des données dans le dtwh\n",
    "\n",
    "dim_site_df.to_sql('Dim_site', conn,\n",
    "                   if_exists='append', index=False)\n",
    "frequentation_quotidienne_df.to_sql(\n",
    "    'Frequentation_quotidienne', conn, if_exists='append', index=False)\n",
    "dim_menu_df.to_sql('Dim_menu', conn,\n",
    "                   if_exists='append', index=False)\n",
    "dim_temporelle_df.to_sql(\n",
    "    'Dim_temporelle', conn, if_exists='append', index=False)\n",
    "dim_events_df.to_sql('Dim_evenement', conn,\n",
    "                     if_exists='append', index=False)"
   ]
  },
  {
   "cell_type": "code",
   "execution_count": 12,
   "id": "969dcd85",
   "metadata": {
    "ExecuteTime": {
     "end_time": "2021-06-17T05:12:29.327695Z",
     "start_time": "2021-06-17T05:12:29.316458Z"
    }
   },
   "outputs": [
    {
     "name": "stdout",
     "output_type": "stream",
     "text": [
      "------------------- Frequentation_quotidienne -------------------- \n",
      "\n",
      "(1, '2011-01-03 00:00:00', 182, 210, 1, 35) \n",
      "\n",
      "------------------- Dim_site -------------------- \n",
      "\n",
      "(1, 'M/E', 'AMPERE', '2010-2011', 280, 'Zola', 3424, 3436, 4226, 1.5847, 47.2115) \n",
      "\n",
      "------------------- Dim_menu -------------------- \n",
      "\n",
      "(1, '2011-01-03 00:00:00', 'hachis parmentier pamplemousse salade verte flan caramel') \n",
      "\n",
      "------------------- Dim_temporelle -------------------- \n",
      "\n",
      "(1, '2011-01-03 00:00:00', 54, 0, 112, 0, 3, 0, 43, 0, 210, 0, 76, 0) \n",
      "\n",
      "------------------- Dim_evenement -------------------- \n",
      "\n",
      "(1, '2011-01-03 00:00:00', 0, 0, 0, 0, 0) \n",
      "\n"
     ]
    }
   ],
   "source": [
    "cursor = conn.cursor()\n",
    "for table in ['Frequentation_quotidienne', 'Dim_site', 'Dim_menu', 'Dim_temporelle', 'Dim_evenement']:\n",
    "    print(\"------------------- {} --------------------\".format(table), '\\n')\n",
    "    command = \"SELECT * FROM {} limit 1\".format(table)\n",
    "    cursor.execute(command)\n",
    "    for row in cursor.fetchall():\n",
    "        print(row, '\\n')\n",
    "conn.commit()\n",
    "cursor.close()"
   ]
  }
 ],
 "metadata": {
  "kernelspec": {
   "display_name": "Python 3.6.9 64-bit",
   "language": "python",
   "name": "python36964bita6f673b58d6e4aec8f355357da510dd9"
  },
  "language_info": {
   "codemirror_mode": {
    "name": "ipython",
    "version": 3
   },
   "file_extension": ".py",
   "mimetype": "text/x-python",
   "name": "python",
   "nbconvert_exporter": "python",
   "pygments_lexer": "ipython3",
   "version": "3.8.11"
  }
 },
 "nbformat": 4,
 "nbformat_minor": 5
}
