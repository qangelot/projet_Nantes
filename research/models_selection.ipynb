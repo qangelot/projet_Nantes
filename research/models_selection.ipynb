{
 "cells": [
  {
   "cell_type": "markdown",
   "id": "740ba426",
   "metadata": {},
   "source": [
    "# Models selection\n",
    "\n",
    "Maintenant que nous avons créé des features grâce à l'étude du domaine métier et à l'EDA, et que nous les avons sélectionnées grâce à Boruta, nous pouvons passer à la phase de sélection du ou des modèles les plus adaptées à notre dataset.\n",
    "\n",
    "L'EDA soulève quelques interrogations à ce sujet mais le meilleur moyen reste de tester une variété de modèles avec quelques combinaisons de leurs hyperparamètres.\n",
    "\n",
    "Un mot sur les hyperparamètres : pour le learning rate ou la régularisation, ajouter 0.1 à 0.01 à un effet important sur le comportement du modèle, en revanche ajouter 0.1 à 10 n'a pratiquement aucune conséquence. Ainsi, pour le learning rate, nous devrions privilégier une distribution logarithmique du paramètre.\n"
   ]
  },
  {
   "cell_type": "code",
   "execution_count": 3,
   "id": "9043a0e4",
   "metadata": {
    "ExecuteTime": {
     "end_time": "2021-07-14T17:20:53.341796Z",
     "start_time": "2021-07-14T17:20:52.965105Z"
    }
   },
   "outputs": [],
   "source": [
    "from model_selector.run_regressors import run_linear_models, run_svm_models, run_neighbor_models, run_gaussian_models, run_nn_models, run_tree_models\n",
    "from sklearn.base import BaseEstimator, TransformerMixin, RegressorMixin, clone\n",
    "from sklearn.model_selection import KFold, cross_val_score, train_test_split\n",
    "from sklearn.metrics import mean_squared_error\n",
    "import pickle\n",
    "import xgboost as xgb\n",
    "import seaborn as sns\n",
    "from typing import List\n",
    "import scipy.stats as stats\n",
    "import pandas as pd\n",
    "import sqlite3 as sql\n",
    "import matplotlib.pyplot as plt\n",
    "%matplotlib inline\n",
    "sns.set_theme(style=\"darkgrid\")\n",
    "\n",
    "pd.set_option('display.max_columns', None)\n",
    "pd.set_option('display.max_rows', None)"
   ]
  },
  {
   "cell_type": "code",
   "execution_count": 4,
   "id": "8d03736c",
   "metadata": {
    "ExecuteTime": {
     "end_time": "2021-07-03T09:00:33.352290Z",
     "start_time": "2021-07-03T09:00:32.888339Z"
    }
   },
   "outputs": [],
   "source": [
    "train = pd.read_csv('../data/train.csv', index_col='date')\n",
    "test = pd.read_csv('../data/test.csv', index_col='date')"
   ]
  },
  {
   "cell_type": "code",
   "execution_count": 5,
   "id": "a11e27b3",
   "metadata": {
    "ExecuteTime": {
     "end_time": "2021-07-03T09:00:34.366077Z",
     "start_time": "2021-07-03T09:00:34.355211Z"
    }
   },
   "outputs": [],
   "source": [
    "y_train = train.reel\n",
    "X_train = train.drop(['reel'], axis=1)\n",
    "y_test = test.reel\n",
    "X_test = test.drop(['reel'], axis=1)"
   ]
  },
  {
   "cell_type": "code",
   "execution_count": 6,
   "id": "584d22ef",
   "metadata": {
    "ExecuteTime": {
     "end_time": "2021-07-03T09:00:45.510369Z",
     "start_time": "2021-07-03T09:00:45.419327Z"
    }
   },
   "outputs": [
    {
     "data": {
      "text/html": [
       "<div>\n",
       "<style scoped>\n",
       "    .dataframe tbody tr th:only-of-type {\n",
       "        vertical-align: middle;\n",
       "    }\n",
       "\n",
       "    .dataframe tbody tr th {\n",
       "        vertical-align: top;\n",
       "    }\n",
       "\n",
       "    .dataframe thead th {\n",
       "        text-align: right;\n",
       "    }\n",
       "</style>\n",
       "<table border=\"1\" class=\"dataframe\">\n",
       "  <thead>\n",
       "    <tr style=\"text-align: right;\">\n",
       "      <th></th>\n",
       "      <th>prevision</th>\n",
       "      <th>cantine_nom</th>\n",
       "      <th>annee_scolaire</th>\n",
       "      <th>effectif</th>\n",
       "      <th>quartier_detail</th>\n",
       "      <th>prix_quartier_detail_m2_appart</th>\n",
       "      <th>prix_moyen_m2_appartement</th>\n",
       "      <th>prix_moyen_m2_maison</th>\n",
       "      <th>longitude</th>\n",
       "      <th>latitude</th>\n",
       "      <th>depuis_vacances</th>\n",
       "      <th>depuis_ferie</th>\n",
       "      <th>depuis_juives</th>\n",
       "      <th>ramadan_dans</th>\n",
       "      <th>depuis_ramadan</th>\n",
       "      <th>year</th>\n",
       "      <th>day_of_week_sin</th>\n",
       "      <th>day_of_year_sin</th>\n",
       "      <th>day_of_year_cos</th>\n",
       "      <th>week_sin</th>\n",
       "      <th>freq_reel_%</th>\n",
       "      <th>freq_reel_%_std</th>\n",
       "    </tr>\n",
       "    <tr>\n",
       "      <th>date</th>\n",
       "      <th></th>\n",
       "      <th></th>\n",
       "      <th></th>\n",
       "      <th></th>\n",
       "      <th></th>\n",
       "      <th></th>\n",
       "      <th></th>\n",
       "      <th></th>\n",
       "      <th></th>\n",
       "      <th></th>\n",
       "      <th></th>\n",
       "      <th></th>\n",
       "      <th></th>\n",
       "      <th></th>\n",
       "      <th></th>\n",
       "      <th></th>\n",
       "      <th></th>\n",
       "      <th></th>\n",
       "      <th></th>\n",
       "      <th></th>\n",
       "      <th></th>\n",
       "      <th></th>\n",
       "    </tr>\n",
       "  </thead>\n",
       "  <tbody>\n",
       "    <tr>\n",
       "      <th>2018-09-03</th>\n",
       "      <td>-0.616667</td>\n",
       "      <td>-0.465192</td>\n",
       "      <td>-1.522069</td>\n",
       "      <td>-0.914241</td>\n",
       "      <td>0.416639</td>\n",
       "      <td>1.879255</td>\n",
       "      <td>2.053797</td>\n",
       "      <td>2.568709</td>\n",
       "      <td>0.000818</td>\n",
       "      <td>-0.520939</td>\n",
       "      <td>-1.383938</td>\n",
       "      <td>-0.421958</td>\n",
       "      <td>0.571805</td>\n",
       "      <td>1.877107</td>\n",
       "      <td>-0.630534</td>\n",
       "      <td>-1.369691</td>\n",
       "      <td>0.000722</td>\n",
       "      <td>-0.977215</td>\n",
       "      <td>-0.763611</td>\n",
       "      <td>-1.046337</td>\n",
       "      <td>0.528764</td>\n",
       "      <td>1.122534</td>\n",
       "    </tr>\n",
       "    <tr>\n",
       "      <th>2018-09-03</th>\n",
       "      <td>0.749616</td>\n",
       "      <td>-1.672087</td>\n",
       "      <td>-0.392492</td>\n",
       "      <td>0.454462</td>\n",
       "      <td>-0.800162</td>\n",
       "      <td>1.712932</td>\n",
       "      <td>1.167674</td>\n",
       "      <td>1.523661</td>\n",
       "      <td>-0.197141</td>\n",
       "      <td>0.178182</td>\n",
       "      <td>-1.383938</td>\n",
       "      <td>-0.421958</td>\n",
       "      <td>0.571805</td>\n",
       "      <td>1.877107</td>\n",
       "      <td>-0.630534</td>\n",
       "      <td>-1.369691</td>\n",
       "      <td>0.000722</td>\n",
       "      <td>-0.977215</td>\n",
       "      <td>-0.763611</td>\n",
       "      <td>-1.046337</td>\n",
       "      <td>-0.711374</td>\n",
       "      <td>-0.465377</td>\n",
       "    </tr>\n",
       "    <tr>\n",
       "      <th>2018-09-03</th>\n",
       "      <td>-0.482479</td>\n",
       "      <td>-1.023781</td>\n",
       "      <td>-0.016829</td>\n",
       "      <td>1.453245</td>\n",
       "      <td>0.523386</td>\n",
       "      <td>-0.056357</td>\n",
       "      <td>-0.204867</td>\n",
       "      <td>0.166957</td>\n",
       "      <td>0.155225</td>\n",
       "      <td>-0.085421</td>\n",
       "      <td>-1.383938</td>\n",
       "      <td>-0.421958</td>\n",
       "      <td>0.571805</td>\n",
       "      <td>1.877107</td>\n",
       "      <td>-0.630534</td>\n",
       "      <td>-1.369691</td>\n",
       "      <td>0.000722</td>\n",
       "      <td>-0.977215</td>\n",
       "      <td>-0.763611</td>\n",
       "      <td>-1.046337</td>\n",
       "      <td>-1.107440</td>\n",
       "      <td>-0.787171</td>\n",
       "    </tr>\n",
       "    <tr>\n",
       "      <th>2018-09-03</th>\n",
       "      <td>1.408360</td>\n",
       "      <td>-1.672087</td>\n",
       "      <td>0.624849</td>\n",
       "      <td>0.195518</td>\n",
       "      <td>-0.800162</td>\n",
       "      <td>1.712932</td>\n",
       "      <td>1.167674</td>\n",
       "      <td>1.523661</td>\n",
       "      <td>-0.197141</td>\n",
       "      <td>0.178182</td>\n",
       "      <td>-1.383938</td>\n",
       "      <td>-0.421958</td>\n",
       "      <td>0.571805</td>\n",
       "      <td>1.877107</td>\n",
       "      <td>-0.630534</td>\n",
       "      <td>-1.369691</td>\n",
       "      <td>0.000722</td>\n",
       "      <td>-0.977215</td>\n",
       "      <td>-0.763611</td>\n",
       "      <td>-1.046337</td>\n",
       "      <td>-0.711374</td>\n",
       "      <td>-0.465377</td>\n",
       "    </tr>\n",
       "    <tr>\n",
       "      <th>2018-09-03</th>\n",
       "      <td>1.261972</td>\n",
       "      <td>-0.241889</td>\n",
       "      <td>1.739077</td>\n",
       "      <td>-0.599810</td>\n",
       "      <td>0.613371</td>\n",
       "      <td>-0.514348</td>\n",
       "      <td>-0.640527</td>\n",
       "      <td>0.166957</td>\n",
       "      <td>-0.703914</td>\n",
       "      <td>-1.466472</td>\n",
       "      <td>-1.383938</td>\n",
       "      <td>-0.421958</td>\n",
       "      <td>0.571805</td>\n",
       "      <td>1.877107</td>\n",
       "      <td>-0.630534</td>\n",
       "      <td>-1.369691</td>\n",
       "      <td>0.000722</td>\n",
       "      <td>-0.977215</td>\n",
       "      <td>-0.763611</td>\n",
       "      <td>-1.046337</td>\n",
       "      <td>0.911384</td>\n",
       "      <td>1.330350</td>\n",
       "    </tr>\n",
       "  </tbody>\n",
       "</table>\n",
       "</div>"
      ],
      "text/plain": [
       "            prevision  cantine_nom  annee_scolaire  effectif  quartier_detail  \\\n",
       "date                                                                            \n",
       "2018-09-03  -0.616667    -0.465192       -1.522069 -0.914241         0.416639   \n",
       "2018-09-03   0.749616    -1.672087       -0.392492  0.454462        -0.800162   \n",
       "2018-09-03  -0.482479    -1.023781       -0.016829  1.453245         0.523386   \n",
       "2018-09-03   1.408360    -1.672087        0.624849  0.195518        -0.800162   \n",
       "2018-09-03   1.261972    -0.241889        1.739077 -0.599810         0.613371   \n",
       "\n",
       "            prix_quartier_detail_m2_appart  prix_moyen_m2_appartement  \\\n",
       "date                                                                    \n",
       "2018-09-03                        1.879255                   2.053797   \n",
       "2018-09-03                        1.712932                   1.167674   \n",
       "2018-09-03                       -0.056357                  -0.204867   \n",
       "2018-09-03                        1.712932                   1.167674   \n",
       "2018-09-03                       -0.514348                  -0.640527   \n",
       "\n",
       "            prix_moyen_m2_maison  longitude  latitude  depuis_vacances  \\\n",
       "date                                                                     \n",
       "2018-09-03              2.568709   0.000818 -0.520939        -1.383938   \n",
       "2018-09-03              1.523661  -0.197141  0.178182        -1.383938   \n",
       "2018-09-03              0.166957   0.155225 -0.085421        -1.383938   \n",
       "2018-09-03              1.523661  -0.197141  0.178182        -1.383938   \n",
       "2018-09-03              0.166957  -0.703914 -1.466472        -1.383938   \n",
       "\n",
       "            depuis_ferie  depuis_juives  ramadan_dans  depuis_ramadan  \\\n",
       "date                                                                    \n",
       "2018-09-03     -0.421958       0.571805      1.877107       -0.630534   \n",
       "2018-09-03     -0.421958       0.571805      1.877107       -0.630534   \n",
       "2018-09-03     -0.421958       0.571805      1.877107       -0.630534   \n",
       "2018-09-03     -0.421958       0.571805      1.877107       -0.630534   \n",
       "2018-09-03     -0.421958       0.571805      1.877107       -0.630534   \n",
       "\n",
       "                year  day_of_week_sin  day_of_year_sin  day_of_year_cos  \\\n",
       "date                                                                      \n",
       "2018-09-03 -1.369691         0.000722        -0.977215        -0.763611   \n",
       "2018-09-03 -1.369691         0.000722        -0.977215        -0.763611   \n",
       "2018-09-03 -1.369691         0.000722        -0.977215        -0.763611   \n",
       "2018-09-03 -1.369691         0.000722        -0.977215        -0.763611   \n",
       "2018-09-03 -1.369691         0.000722        -0.977215        -0.763611   \n",
       "\n",
       "            week_sin  freq_reel_%  freq_reel_%_std  \n",
       "date                                                \n",
       "2018-09-03 -1.046337     0.528764         1.122534  \n",
       "2018-09-03 -1.046337    -0.711374        -0.465377  \n",
       "2018-09-03 -1.046337    -1.107440        -0.787171  \n",
       "2018-09-03 -1.046337    -0.711374        -0.465377  \n",
       "2018-09-03 -1.046337     0.911384         1.330350  "
      ]
     },
     "execution_count": 6,
     "metadata": {},
     "output_type": "execute_result"
    }
   ],
   "source": [
    "X_test.head()"
   ]
  },
  {
   "cell_type": "markdown",
   "id": "2b7d4381",
   "metadata": {},
   "source": [
    "## 1. Les modèles linéaires"
   ]
  },
  {
   "cell_type": "code",
   "execution_count": 14,
   "id": "784fc9d0",
   "metadata": {
    "ExecuteTime": {
     "end_time": "2021-06-21T14:50:43.488130Z",
     "start_time": "2021-06-21T14:50:43.486024Z"
    }
   },
   "outputs": [],
   "source": [
    "# run_linear_models(X_train, y_train, small = True, normalize_x = False)"
   ]
  },
  {
   "attachments": {},
   "cell_type": "markdown",
   "id": "5b95c393",
   "metadata": {},
   "source": [
    "![title](img/linear.png)"
   ]
  },
  {
   "cell_type": "markdown",
   "id": "a3e7a062",
   "metadata": {},
   "source": [
    "## 2. Les modèles support vector machines (SVM)\n",
    "\n",
    "De la documentation de Scikit-learn : \n",
    "\n",
    "La complexité du temps d'ajustement du modèle SVR est plus que quadratique avec le nombre d'échantillons, ce qui rend difficile l'adaptation à des ensembles de données de plus de 10 000 échantillons. Pour les grands ensembles de données, envisagez d'utiliser LinearSVR ou SGDRegressor à la place, éventuellement après un transformateur Nystroem.\n",
    "\n",
    "Ici, vu la taille de notre dataset, nous utilisons le modèle LinearSVR uniquement."
   ]
  },
  {
   "cell_type": "code",
   "execution_count": 13,
   "id": "d2fb1b87",
   "metadata": {
    "ExecuteTime": {
     "end_time": "2021-06-21T14:50:36.792258Z",
     "start_time": "2021-06-21T14:50:36.786647Z"
    }
   },
   "outputs": [],
   "source": [
    "# run_svm_models(X_train, y_train, small = True, normalize_x = False)"
   ]
  },
  {
   "attachments": {},
   "cell_type": "markdown",
   "id": "554a2ec4",
   "metadata": {},
   "source": [
    "![title](img/svm.png)\n",
    "\n",
    "LinearSVR n'apporte pas d'amélioration par rapport à LassoLars"
   ]
  },
  {
   "cell_type": "markdown",
   "id": "429644fc",
   "metadata": {},
   "source": [
    "## 3. Les modèles basés sur les distances"
   ]
  },
  {
   "cell_type": "code",
   "execution_count": 15,
   "id": "d19d8edf",
   "metadata": {
    "ExecuteTime": {
     "end_time": "2021-06-21T15:46:29.429043Z",
     "start_time": "2021-06-21T15:46:29.427017Z"
    }
   },
   "outputs": [],
   "source": [
    "# run_neighbor_models(X_train, y_train, normalize_x = False)"
   ]
  },
  {
   "attachments": {},
   "cell_type": "markdown",
   "id": "be2c71f7",
   "metadata": {},
   "source": [
    "![title](img/knn.png)\n",
    "\n",
    "KNN est, dans le cadre de ce jeu de données, relativement mauvais par rapport aux modèles précédement testés."
   ]
  },
  {
   "cell_type": "markdown",
   "id": "20ea3c9d",
   "metadata": {},
   "source": [
    "## 4. Les modèles gaussiens"
   ]
  },
  {
   "cell_type": "code",
   "execution_count": 18,
   "id": "c6f0da53",
   "metadata": {
    "ExecuteTime": {
     "end_time": "2021-06-22T06:45:10.450916Z",
     "start_time": "2021-06-22T06:45:10.448615Z"
    }
   },
   "outputs": [],
   "source": [
    "# run_gaussian_models(X_train, y_train, small = True, normalize_x = False)"
   ]
  },
  {
   "attachments": {},
   "cell_type": "markdown",
   "id": "6906e861",
   "metadata": {},
   "source": [
    "![title](img/gaussian.png)\n",
    "\n",
    "Tout comme SVM avant, ce modèle nécessite une grande quantité de RAM car son implémentation dans Scikit-learn demande de calculer une matrice de covarriance sur l'ensemble du train set. Au vu de notre large dataset, cela n'est pas réalisable ici. Tout comme SVM, nous pourrions probablement tenter une approche d'entraînement par batch."
   ]
  },
  {
   "cell_type": "markdown",
   "id": "cf2a0f14",
   "metadata": {},
   "source": [
    "## 5. Les réseaux de neuronnes"
   ]
  },
  {
   "cell_type": "code",
   "execution_count": 17,
   "id": "c9e73515",
   "metadata": {
    "ExecuteTime": {
     "end_time": "2021-06-22T06:45:03.991091Z",
     "start_time": "2021-06-22T06:45:03.987980Z"
    }
   },
   "outputs": [],
   "source": [
    "# run_nn_models(X_train, y_train, small = True, normalize_x = False)"
   ]
  },
  {
   "attachments": {},
   "cell_type": "markdown",
   "id": "19d00240",
   "metadata": {},
   "source": [
    "![title](img/mlp.png)\n",
    "\n",
    "MLPRegressor obtient des résultats solides dans la veine des modèles linéaires."
   ]
  },
  {
   "cell_type": "markdown",
   "id": "de3aa41b",
   "metadata": {},
   "source": [
    "## 6. Les modèles à base d'arbres de décision"
   ]
  },
  {
   "cell_type": "code",
   "execution_count": 16,
   "id": "9942f226",
   "metadata": {
    "ExecuteTime": {
     "end_time": "2021-06-22T06:44:59.511552Z",
     "start_time": "2021-06-22T06:44:59.509014Z"
    }
   },
   "outputs": [],
   "source": [
    "# run_tree_models(X_train, y_train, small = True, normalize_x = False)"
   ]
  },
  {
   "attachments": {},
   "cell_type": "markdown",
   "id": "35de299a",
   "metadata": {},
   "source": [
    "![title](img/tree.png)\n",
    "\n",
    "De façon assez suprenante un simple arbre de décision obtient le meilleur score jusqu'à présent. Une bonne idée est de continuer dans la direction de modèles plus perfectionnés à base d'arbres. "
   ]
  },
  {
   "cell_type": "markdown",
   "id": "f7b82643",
   "metadata": {},
   "source": [
    "## 7. Les modèles ensemblistes (bagging)"
   ]
  },
  {
   "cell_type": "code",
   "execution_count": null,
   "id": "fa2c943d",
   "metadata": {},
   "outputs": [],
   "source": [
    "run_ensemble_models(X_train, y_train, small = True, normalize_x = False)"
   ]
  },
  {
   "attachments": {},
   "cell_type": "markdown",
   "id": "d73acaa8",
   "metadata": {},
   "source": [
    "![title](img/bagging.png)\n",
    "\n",
    "<br>\n",
    "\n",
    "La tendance est confirmée par ce run, il semblerait que les modèles à base d'arbres soient de bon candidats sur ce jeu de données. Voyons maintenant la technique du boosting."
   ]
  },
  {
   "cell_type": "markdown",
   "id": "29755ecc",
   "metadata": {},
   "source": [
    "## 8. Les modèles ensemblistes (boosting) : XGBoost et LGBM\n",
    "\n",
    "Xgboost et LGBM ne sont pas encore implémentés dans mon package de sélection de modèle, on opère donc une randomized search manuelle."
   ]
  },
  {
   "cell_type": "code",
   "execution_count": 85,
   "id": "47e04e7d",
   "metadata": {
    "ExecuteTime": {
     "end_time": "2021-06-22T15:48:14.443623Z",
     "start_time": "2021-06-22T15:32:19.387750Z"
    }
   },
   "outputs": [
    {
     "name": "stdout",
     "output_type": "stream",
     "text": [
      "Fitting 3 folds for each of 100 candidates, totalling 300 fits\n",
      "[CV] END gamma=0.3, learning_rate=0.1, max_depth=5, min_child_weight=4, n_estimators=250; total time=   1.2s\n",
      "[CV] END gamma=0.3, learning_rate=0.1, max_depth=5, min_child_weight=4, n_estimators=250; total time=   2.6s\n",
      "[CV] END gamma=0.3, learning_rate=0.1, max_depth=5, min_child_weight=4, n_estimators=250; total time=   3.5s\n",
      "[CV] END gamma=0.2, learning_rate=0.2, max_depth=3, min_child_weight=6, n_estimators=250; total time=   0.8s\n",
      "[CV] END gamma=0.2, learning_rate=0.2, max_depth=3, min_child_weight=6, n_estimators=250; total time=   1.5s\n",
      "[CV] END gamma=0.2, learning_rate=0.2, max_depth=3, min_child_weight=6, n_estimators=250; total time=   2.1s\n",
      "[CV] END gamma=0.4, learning_rate=0.05, max_depth=5, min_child_weight=6, n_estimators=250; total time=   1.6s\n",
      "[CV] END gamma=0.4, learning_rate=0.05, max_depth=5, min_child_weight=6, n_estimators=250; total time=   2.4s\n",
      "[CV] END gamma=0.4, learning_rate=0.05, max_depth=5, min_child_weight=6, n_estimators=250; total time=   4.2s\n",
      "[CV] END gamma=0.5, learning_rate=0.05, max_depth=8, min_child_weight=4, n_estimators=250; total time=   2.7s\n",
      "[CV] END gamma=0.5, learning_rate=0.05, max_depth=8, min_child_weight=4, n_estimators=250; total time=   5.5s\n",
      "[CV] END gamma=0.5, learning_rate=0.05, max_depth=8, min_child_weight=4, n_estimators=250; total time=   7.4s\n",
      "[CV] END gamma=0.4, learning_rate=0.2, max_depth=3, min_child_weight=4, n_estimators=250; total time=   0.8s\n",
      "[CV] END gamma=0.4, learning_rate=0.2, max_depth=3, min_child_weight=4, n_estimators=250; total time=   1.7s\n",
      "[CV] END gamma=0.4, learning_rate=0.2, max_depth=3, min_child_weight=4, n_estimators=250; total time=   2.5s\n",
      "[CV] END gamma=0.4, learning_rate=0.2, max_depth=3, min_child_weight=4, n_estimators=100; total time=   0.5s\n",
      "[CV] END gamma=0.4, learning_rate=0.2, max_depth=3, min_child_weight=4, n_estimators=100; total time=   0.7s\n",
      "[CV] END gamma=0.4, learning_rate=0.2, max_depth=3, min_child_weight=4, n_estimators=100; total time=   0.9s\n",
      "[CV] END gamma=0.3, learning_rate=0.2, max_depth=3, min_child_weight=4, n_estimators=500; total time=   1.8s\n",
      "[CV] END gamma=0.3, learning_rate=0.2, max_depth=3, min_child_weight=4, n_estimators=500; total time=   3.2s\n",
      "[CV] END gamma=0.3, learning_rate=0.2, max_depth=3, min_child_weight=4, n_estimators=500; total time=   4.5s\n",
      "[CV] END gamma=0.2, learning_rate=0.01, max_depth=8, min_child_weight=4, n_estimators=150; total time=   1.4s\n",
      "[CV] END gamma=0.2, learning_rate=0.01, max_depth=8, min_child_weight=4, n_estimators=150; total time=   2.6s\n",
      "[CV] END gamma=0.2, learning_rate=0.01, max_depth=8, min_child_weight=4, n_estimators=150; total time=   4.1s\n",
      "[CV] END gamma=0.2, learning_rate=0.1, max_depth=3, min_child_weight=6, n_estimators=250; total time=   0.8s\n",
      "[CV] END gamma=0.2, learning_rate=0.1, max_depth=3, min_child_weight=6, n_estimators=250; total time=   1.7s\n",
      "[CV] END gamma=0.2, learning_rate=0.1, max_depth=3, min_child_weight=6, n_estimators=250; total time=   2.6s\n",
      "[CV] END gamma=0.4, learning_rate=0.1, max_depth=5, min_child_weight=6, n_estimators=100; total time=   0.6s\n",
      "[CV] END gamma=0.4, learning_rate=0.1, max_depth=5, min_child_weight=6, n_estimators=100; total time=   1.1s\n",
      "[CV] END gamma=0.4, learning_rate=0.1, max_depth=5, min_child_weight=6, n_estimators=100; total time=   1.9s\n",
      "[CV] END gamma=0.5, learning_rate=0.05, max_depth=3, min_child_weight=2, n_estimators=250; total time=   1.0s\n",
      "[CV] END gamma=0.5, learning_rate=0.05, max_depth=3, min_child_weight=2, n_estimators=250; total time=   1.7s\n",
      "[CV] END gamma=0.5, learning_rate=0.05, max_depth=3, min_child_weight=2, n_estimators=250; total time=   2.5s\n",
      "[CV] END gamma=0.5, learning_rate=0.01, max_depth=5, min_child_weight=2, n_estimators=500; total time=   3.2s\n",
      "[CV] END gamma=0.5, learning_rate=0.01, max_depth=5, min_child_weight=2, n_estimators=500; total time=   5.9s\n",
      "[CV] END gamma=0.5, learning_rate=0.01, max_depth=5, min_child_weight=2, n_estimators=500; total time=   8.6s\n",
      "[CV] END gamma=0.3, learning_rate=0.2, max_depth=8, min_child_weight=4, n_estimators=150; total time=   1.5s\n",
      "[CV] END gamma=0.3, learning_rate=0.2, max_depth=8, min_child_weight=4, n_estimators=150; total time=   3.3s\n",
      "[CV] END gamma=0.3, learning_rate=0.2, max_depth=8, min_child_weight=4, n_estimators=150; total time=   4.6s\n",
      "[CV] END gamma=0.4, learning_rate=0.05, max_depth=8, min_child_weight=6, n_estimators=100; total time=   1.3s\n",
      "[CV] END gamma=0.4, learning_rate=0.05, max_depth=8, min_child_weight=6, n_estimators=100; total time=   2.8s\n",
      "[CV] END gamma=0.4, learning_rate=0.05, max_depth=8, min_child_weight=6, n_estimators=100; total time=   3.3s\n",
      "[CV] END gamma=0.5, learning_rate=0.1, max_depth=8, min_child_weight=4, n_estimators=250; total time=   2.6s\n",
      "[CV] END gamma=0.5, learning_rate=0.1, max_depth=8, min_child_weight=4, n_estimators=250; total time=   5.2s\n",
      "[CV] END gamma=0.5, learning_rate=0.1, max_depth=8, min_child_weight=4, n_estimators=250; total time=   7.1s\n",
      "[CV] END gamma=0.3, learning_rate=0.01, max_depth=5, min_child_weight=6, n_estimators=500; total time=   3.3s\n",
      "[CV] END gamma=0.3, learning_rate=0.01, max_depth=5, min_child_weight=6, n_estimators=500; total time=   6.1s\n",
      "[CV] END gamma=0.3, learning_rate=0.01, max_depth=5, min_child_weight=6, n_estimators=500; total time=   8.8s\n",
      "[CV] END gamma=0.3, learning_rate=0.2, max_depth=5, min_child_weight=2, n_estimators=150; total time=   1.0s\n",
      "[CV] END gamma=0.3, learning_rate=0.2, max_depth=5, min_child_weight=2, n_estimators=150; total time=   1.8s\n",
      "[CV] END gamma=0.3, learning_rate=0.2, max_depth=5, min_child_weight=2, n_estimators=150; total time=   2.5s\n",
      "[CV] END gamma=0.2, learning_rate=0.05, max_depth=5, min_child_weight=4, n_estimators=500; total time=   3.1s\n",
      "[CV] END gamma=0.2, learning_rate=0.05, max_depth=5, min_child_weight=4, n_estimators=500; total time=   6.3s\n",
      "[CV] END gamma=0.2, learning_rate=0.05, max_depth=5, min_child_weight=4, n_estimators=500; total time=   9.2s\n",
      "[CV] END gamma=0.5, learning_rate=0.1, max_depth=5, min_child_weight=6, n_estimators=100; total time=   0.6s\n",
      "[CV] END gamma=0.5, learning_rate=0.1, max_depth=5, min_child_weight=6, n_estimators=100; total time=   1.5s\n",
      "[CV] END gamma=0.5, learning_rate=0.1, max_depth=5, min_child_weight=6, n_estimators=100; total time=   1.7s\n",
      "[CV] END gamma=0.3, learning_rate=0.01, max_depth=3, min_child_weight=6, n_estimators=150; total time=   0.5s\n",
      "[CV] END gamma=0.3, learning_rate=0.01, max_depth=3, min_child_weight=6, n_estimators=150; total time=   1.0s\n",
      "[CV] END gamma=0.3, learning_rate=0.01, max_depth=3, min_child_weight=6, n_estimators=150; total time=   1.4s\n",
      "[CV] END gamma=0.5, learning_rate=0.2, max_depth=8, min_child_weight=2, n_estimators=150; total time=   1.4s\n",
      "[CV] END gamma=0.5, learning_rate=0.2, max_depth=8, min_child_weight=2, n_estimators=150; total time=   3.0s\n",
      "[CV] END gamma=0.5, learning_rate=0.2, max_depth=8, min_child_weight=2, n_estimators=150; total time=   4.4s\n",
      "[CV] END gamma=0.2, learning_rate=0.1, max_depth=5, min_child_weight=4, n_estimators=250; total time=   1.6s\n",
      "[CV] END gamma=0.2, learning_rate=0.1, max_depth=5, min_child_weight=4, n_estimators=250; total time=   2.7s\n",
      "[CV] END gamma=0.2, learning_rate=0.1, max_depth=5, min_child_weight=4, n_estimators=250; total time=   4.2s\n",
      "[CV] END gamma=0.4, learning_rate=0.2, max_depth=3, min_child_weight=6, n_estimators=150; total time=   0.6s\n",
      "[CV] END gamma=0.4, learning_rate=0.2, max_depth=3, min_child_weight=6, n_estimators=150; total time=   1.0s\n",
      "[CV] END gamma=0.4, learning_rate=0.2, max_depth=3, min_child_weight=6, n_estimators=150; total time=   1.6s\n",
      "[CV] END gamma=0.3, learning_rate=0.1, max_depth=5, min_child_weight=2, n_estimators=100; total time=   0.8s\n",
      "[CV] END gamma=0.3, learning_rate=0.1, max_depth=5, min_child_weight=2, n_estimators=100; total time=   1.3s\n",
      "[CV] END gamma=0.3, learning_rate=0.1, max_depth=5, min_child_weight=2, n_estimators=100; total time=   1.9s\n",
      "[CV] END gamma=0.5, learning_rate=0.1, max_depth=3, min_child_weight=6, n_estimators=250; total time=   0.8s\n",
      "[CV] END gamma=0.5, learning_rate=0.1, max_depth=3, min_child_weight=6, n_estimators=250; total time=   1.8s\n",
      "[CV] END gamma=0.5, learning_rate=0.1, max_depth=3, min_child_weight=6, n_estimators=250; total time=   2.6s\n"
     ]
    },
    {
     "name": "stdout",
     "output_type": "stream",
     "text": [
      "[CV] END gamma=0.3, learning_rate=0.01, max_depth=8, min_child_weight=6, n_estimators=100; total time=   0.8s\n",
      "[CV] END gamma=0.3, learning_rate=0.01, max_depth=8, min_child_weight=6, n_estimators=100; total time=   1.8s\n",
      "[CV] END gamma=0.3, learning_rate=0.01, max_depth=8, min_child_weight=6, n_estimators=100; total time=   2.7s\n",
      "[CV] END gamma=0.3, learning_rate=0.1, max_depth=8, min_child_weight=4, n_estimators=500; total time=   4.2s\n",
      "[CV] END gamma=0.3, learning_rate=0.1, max_depth=8, min_child_weight=4, n_estimators=500; total time=   9.3s\n",
      "[CV] END gamma=0.3, learning_rate=0.1, max_depth=8, min_child_weight=4, n_estimators=500; total time=  18.4s\n",
      "[CV] END gamma=0.4, learning_rate=0.2, max_depth=8, min_child_weight=4, n_estimators=150; total time=   1.4s\n",
      "[CV] END gamma=0.4, learning_rate=0.2, max_depth=8, min_child_weight=4, n_estimators=150; total time=   3.2s\n",
      "[CV] END gamma=0.4, learning_rate=0.2, max_depth=8, min_child_weight=4, n_estimators=150; total time=   4.4s\n",
      "[CV] END gamma=0.3, learning_rate=0.2, max_depth=5, min_child_weight=4, n_estimators=100; total time=   0.6s\n",
      "[CV] END gamma=0.3, learning_rate=0.2, max_depth=5, min_child_weight=4, n_estimators=100; total time=   1.4s\n",
      "[CV] END gamma=0.3, learning_rate=0.2, max_depth=5, min_child_weight=4, n_estimators=100; total time=   1.8s\n",
      "[CV] END gamma=0.2, learning_rate=0.1, max_depth=3, min_child_weight=2, n_estimators=150; total time=   0.6s\n",
      "[CV] END gamma=0.2, learning_rate=0.1, max_depth=3, min_child_weight=2, n_estimators=150; total time=   1.1s\n",
      "[CV] END gamma=0.2, learning_rate=0.1, max_depth=3, min_child_weight=2, n_estimators=150; total time=   1.5s\n",
      "[CV] END gamma=0.5, learning_rate=0.2, max_depth=5, min_child_weight=6, n_estimators=100; total time=   0.7s\n",
      "[CV] END gamma=0.5, learning_rate=0.2, max_depth=5, min_child_weight=6, n_estimators=100; total time=   1.2s\n",
      "[CV] END gamma=0.5, learning_rate=0.2, max_depth=5, min_child_weight=6, n_estimators=100; total time=   1.7s\n",
      "[CV] END gamma=0.5, learning_rate=0.1, max_depth=5, min_child_weight=2, n_estimators=100; total time=   0.6s\n",
      "[CV] END gamma=0.5, learning_rate=0.1, max_depth=5, min_child_weight=2, n_estimators=100; total time=   1.2s\n",
      "[CV] END gamma=0.5, learning_rate=0.1, max_depth=5, min_child_weight=2, n_estimators=100; total time=   1.7s\n",
      "[CV] END gamma=0.5, learning_rate=0.01, max_depth=3, min_child_weight=4, n_estimators=100; total time=   0.4s\n",
      "[CV] END gamma=0.5, learning_rate=0.01, max_depth=3, min_child_weight=4, n_estimators=100; total time=   0.7s\n",
      "[CV] END gamma=0.5, learning_rate=0.01, max_depth=3, min_child_weight=4, n_estimators=100; total time=   1.0s\n",
      "[CV] END gamma=0.5, learning_rate=0.1, max_depth=8, min_child_weight=6, n_estimators=500; total time=   4.0s\n",
      "[CV] END gamma=0.5, learning_rate=0.1, max_depth=8, min_child_weight=6, n_estimators=500; total time=  13.6s\n",
      "[CV] END gamma=0.5, learning_rate=0.1, max_depth=8, min_child_weight=6, n_estimators=500; total time=  18.0s\n",
      "[CV] END gamma=0.3, learning_rate=0.1, max_depth=3, min_child_weight=6, n_estimators=500; total time=   1.7s\n",
      "[CV] END gamma=0.3, learning_rate=0.1, max_depth=3, min_child_weight=6, n_estimators=500; total time=   3.2s\n",
      "[CV] END gamma=0.3, learning_rate=0.1, max_depth=3, min_child_weight=6, n_estimators=500; total time=   4.7s\n",
      "[CV] END gamma=0.2, learning_rate=0.1, max_depth=3, min_child_weight=6, n_estimators=150; total time=   0.6s\n",
      "[CV] END gamma=0.2, learning_rate=0.1, max_depth=3, min_child_weight=6, n_estimators=150; total time=   1.0s\n",
      "[CV] END gamma=0.2, learning_rate=0.1, max_depth=3, min_child_weight=6, n_estimators=150; total time=   1.4s\n",
      "[CV] END gamma=0.2, learning_rate=0.01, max_depth=3, min_child_weight=6, n_estimators=250; total time=   0.9s\n",
      "[CV] END gamma=0.2, learning_rate=0.01, max_depth=3, min_child_weight=6, n_estimators=250; total time=   1.7s\n",
      "[CV] END gamma=0.2, learning_rate=0.01, max_depth=3, min_child_weight=6, n_estimators=250; total time=   2.5s\n",
      "[CV] END gamma=0.2, learning_rate=0.1, max_depth=3, min_child_weight=4, n_estimators=250; total time=   0.9s\n",
      "[CV] END gamma=0.2, learning_rate=0.1, max_depth=3, min_child_weight=4, n_estimators=250; total time=   1.6s\n",
      "[CV] END gamma=0.2, learning_rate=0.1, max_depth=3, min_child_weight=4, n_estimators=250; total time=   2.4s\n",
      "[CV] END gamma=0.2, learning_rate=0.01, max_depth=3, min_child_weight=4, n_estimators=250; total time=   0.9s\n",
      "[CV] END gamma=0.2, learning_rate=0.01, max_depth=3, min_child_weight=4, n_estimators=250; total time=   1.7s\n",
      "[CV] END gamma=0.2, learning_rate=0.01, max_depth=3, min_child_weight=4, n_estimators=250; total time=   2.4s\n",
      "[CV] END gamma=0.5, learning_rate=0.2, max_depth=8, min_child_weight=6, n_estimators=100; total time=   1.0s\n",
      "[CV] END gamma=0.5, learning_rate=0.2, max_depth=8, min_child_weight=6, n_estimators=100; total time=   1.9s\n",
      "[CV] END gamma=0.5, learning_rate=0.2, max_depth=8, min_child_weight=6, n_estimators=100; total time=   2.8s\n",
      "[CV] END gamma=0.5, learning_rate=0.2, max_depth=3, min_child_weight=4, n_estimators=500; total time=   1.6s\n",
      "[CV] END gamma=0.5, learning_rate=0.2, max_depth=3, min_child_weight=4, n_estimators=500; total time=   3.2s\n",
      "[CV] END gamma=0.5, learning_rate=0.2, max_depth=3, min_child_weight=4, n_estimators=500; total time=   6.3s\n",
      "[CV] END gamma=0.3, learning_rate=0.01, max_depth=5, min_child_weight=4, n_estimators=500; total time=   4.6s\n",
      "[CV] END gamma=0.3, learning_rate=0.01, max_depth=5, min_child_weight=4, n_estimators=500; total time=   7.4s\n",
      "[CV] END gamma=0.3, learning_rate=0.01, max_depth=5, min_child_weight=4, n_estimators=500; total time=  10.2s\n",
      "[CV] END gamma=0.4, learning_rate=0.1, max_depth=5, min_child_weight=6, n_estimators=500; total time=   3.7s\n",
      "[CV] END gamma=0.4, learning_rate=0.1, max_depth=5, min_child_weight=6, n_estimators=500; total time=   6.3s\n",
      "[CV] END gamma=0.4, learning_rate=0.1, max_depth=5, min_child_weight=6, n_estimators=500; total time=   8.2s\n",
      "[CV] END gamma=0.4, learning_rate=0.05, max_depth=5, min_child_weight=2, n_estimators=250; total time=   1.5s\n",
      "[CV] END gamma=0.4, learning_rate=0.05, max_depth=5, min_child_weight=2, n_estimators=250; total time=   2.7s\n",
      "[CV] END gamma=0.4, learning_rate=0.05, max_depth=5, min_child_weight=2, n_estimators=250; total time=   4.1s\n",
      "[CV] END gamma=0.3, learning_rate=0.01, max_depth=5, min_child_weight=6, n_estimators=150; total time=   0.9s\n",
      "[CV] END gamma=0.3, learning_rate=0.01, max_depth=5, min_child_weight=6, n_estimators=150; total time=   1.8s\n",
      "[CV] END gamma=0.3, learning_rate=0.01, max_depth=5, min_child_weight=6, n_estimators=150; total time=   2.6s\n",
      "[CV] END gamma=0.2, learning_rate=0.2, max_depth=3, min_child_weight=2, n_estimators=250; total time=   0.8s\n",
      "[CV] END gamma=0.2, learning_rate=0.2, max_depth=3, min_child_weight=2, n_estimators=250; total time=   1.6s\n",
      "[CV] END gamma=0.2, learning_rate=0.2, max_depth=3, min_child_weight=2, n_estimators=250; total time=   2.4s\n",
      "[CV] END gamma=0.3, learning_rate=0.05, max_depth=8, min_child_weight=4, n_estimators=250; total time=   2.6s\n",
      "[CV] END gamma=0.3, learning_rate=0.05, max_depth=8, min_child_weight=4, n_estimators=250; total time=   4.9s\n",
      "[CV] END gamma=0.3, learning_rate=0.05, max_depth=8, min_child_weight=4, n_estimators=250; total time=   7.2s\n",
      "[CV] END gamma=0.3, learning_rate=0.05, max_depth=5, min_child_weight=2, n_estimators=500; total time=   4.2s\n",
      "[CV] END gamma=0.3, learning_rate=0.05, max_depth=5, min_child_weight=2, n_estimators=500; total time=   8.3s\n",
      "[CV] END gamma=0.3, learning_rate=0.05, max_depth=5, min_child_weight=2, n_estimators=500; total time=   9.0s\n",
      "[CV] END gamma=0.2, learning_rate=0.05, max_depth=8, min_child_weight=6, n_estimators=250; total time=   3.7s\n",
      "[CV] END gamma=0.2, learning_rate=0.05, max_depth=8, min_child_weight=6, n_estimators=250; total time=   6.4s\n",
      "[CV] END gamma=0.2, learning_rate=0.05, max_depth=8, min_child_weight=6, n_estimators=250; total time=   8.5s\n",
      "[CV] END gamma=0.5, learning_rate=0.2, max_depth=8, min_child_weight=4, n_estimators=500; total time=   5.0s\n",
      "[CV] END gamma=0.5, learning_rate=0.2, max_depth=8, min_child_weight=4, n_estimators=500; total time=  10.9s\n",
      "[CV] END gamma=0.5, learning_rate=0.2, max_depth=8, min_child_weight=4, n_estimators=500; total time=  15.3s\n"
     ]
    },
    {
     "name": "stdout",
     "output_type": "stream",
     "text": [
      "[CV] END gamma=0.4, learning_rate=0.01, max_depth=3, min_child_weight=2, n_estimators=500; total time=   1.9s\n",
      "[CV] END gamma=0.4, learning_rate=0.01, max_depth=3, min_child_weight=2, n_estimators=500; total time=   3.6s\n",
      "[CV] END gamma=0.4, learning_rate=0.01, max_depth=3, min_child_weight=2, n_estimators=500; total time=   5.2s\n",
      "[CV] END gamma=0.4, learning_rate=0.01, max_depth=8, min_child_weight=4, n_estimators=250; total time=   2.6s\n",
      "[CV] END gamma=0.4, learning_rate=0.01, max_depth=8, min_child_weight=4, n_estimators=250; total time=   5.4s\n",
      "[CV] END gamma=0.4, learning_rate=0.01, max_depth=8, min_child_weight=4, n_estimators=250; total time=   9.4s\n",
      "[CV] END gamma=0.4, learning_rate=0.2, max_depth=5, min_child_weight=4, n_estimators=250; total time=   1.6s\n",
      "[CV] END gamma=0.4, learning_rate=0.2, max_depth=5, min_child_weight=4, n_estimators=250; total time=   2.6s\n",
      "[CV] END gamma=0.4, learning_rate=0.2, max_depth=5, min_child_weight=4, n_estimators=250; total time=   4.4s\n",
      "[CV] END gamma=0.2, learning_rate=0.01, max_depth=8, min_child_weight=4, n_estimators=250; total time=   4.3s\n",
      "[CV] END gamma=0.2, learning_rate=0.01, max_depth=8, min_child_weight=4, n_estimators=250; total time=   5.1s\n",
      "[CV] END gamma=0.2, learning_rate=0.01, max_depth=8, min_child_weight=4, n_estimators=250; total time=   8.8s\n",
      "[CV] END gamma=0.3, learning_rate=0.1, max_depth=5, min_child_weight=4, n_estimators=500; total time=   2.9s\n",
      "[CV] END gamma=0.3, learning_rate=0.1, max_depth=5, min_child_weight=4, n_estimators=500; total time=   6.8s\n",
      "[CV] END gamma=0.3, learning_rate=0.1, max_depth=5, min_child_weight=4, n_estimators=500; total time=  11.0s\n",
      "[CV] END gamma=0.5, learning_rate=0.2, max_depth=5, min_child_weight=2, n_estimators=100; total time=   0.6s\n",
      "[CV] END gamma=0.5, learning_rate=0.2, max_depth=5, min_child_weight=2, n_estimators=100; total time=   1.9s\n",
      "[CV] END gamma=0.5, learning_rate=0.2, max_depth=5, min_child_weight=2, n_estimators=100; total time=   2.1s\n",
      "[CV] END gamma=0.2, learning_rate=0.1, max_depth=8, min_child_weight=6, n_estimators=100; total time=   1.3s\n",
      "[CV] END gamma=0.2, learning_rate=0.1, max_depth=8, min_child_weight=6, n_estimators=100; total time=   2.5s\n",
      "[CV] END gamma=0.2, learning_rate=0.1, max_depth=8, min_child_weight=6, n_estimators=100; total time=  13.1s\n",
      "[CV] END gamma=0.4, learning_rate=0.2, max_depth=3, min_child_weight=4, n_estimators=500; total time=   2.0s\n",
      "[CV] END gamma=0.4, learning_rate=0.2, max_depth=3, min_child_weight=4, n_estimators=500; total time=   3.6s\n",
      "[CV] END gamma=0.4, learning_rate=0.2, max_depth=3, min_child_weight=4, n_estimators=500; total time=   5.6s\n",
      "[CV] END gamma=0.3, learning_rate=0.05, max_depth=3, min_child_weight=2, n_estimators=250; total time=   1.1s\n",
      "[CV] END gamma=0.3, learning_rate=0.05, max_depth=3, min_child_weight=2, n_estimators=250; total time=   1.9s\n",
      "[CV] END gamma=0.3, learning_rate=0.05, max_depth=3, min_child_weight=2, n_estimators=250; total time=   2.6s\n",
      "[CV] END gamma=0.2, learning_rate=0.1, max_depth=3, min_child_weight=6, n_estimators=500; total time=   2.5s\n",
      "[CV] END gamma=0.2, learning_rate=0.1, max_depth=3, min_child_weight=6, n_estimators=500; total time=   3.9s\n",
      "[CV] END gamma=0.2, learning_rate=0.1, max_depth=3, min_child_weight=6, n_estimators=500; total time=   6.6s\n",
      "[CV] END gamma=0.2, learning_rate=0.05, max_depth=3, min_child_weight=2, n_estimators=500; total time=   2.7s\n",
      "[CV] END gamma=0.2, learning_rate=0.05, max_depth=3, min_child_weight=2, n_estimators=500; total time=   3.7s\n",
      "[CV] END gamma=0.2, learning_rate=0.05, max_depth=3, min_child_weight=2, n_estimators=500; total time=   5.0s\n",
      "[CV] END gamma=0.2, learning_rate=0.1, max_depth=3, min_child_weight=4, n_estimators=500; total time=   2.0s\n",
      "[CV] END gamma=0.2, learning_rate=0.1, max_depth=3, min_child_weight=4, n_estimators=500; total time=   4.3s\n",
      "[CV] END gamma=0.2, learning_rate=0.1, max_depth=3, min_child_weight=4, n_estimators=500; total time=   8.2s\n",
      "[CV] END gamma=0.4, learning_rate=0.1, max_depth=3, min_child_weight=2, n_estimators=500; total time=   2.6s\n",
      "[CV] END gamma=0.4, learning_rate=0.1, max_depth=3, min_child_weight=2, n_estimators=500; total time=   4.4s\n",
      "[CV] END gamma=0.4, learning_rate=0.1, max_depth=3, min_child_weight=2, n_estimators=500; total time=   5.4s\n",
      "[CV] END gamma=0.2, learning_rate=0.01, max_depth=3, min_child_weight=2, n_estimators=250; total time=   1.0s\n",
      "[CV] END gamma=0.2, learning_rate=0.01, max_depth=3, min_child_weight=2, n_estimators=250; total time=   1.6s\n",
      "[CV] END gamma=0.2, learning_rate=0.01, max_depth=3, min_child_weight=2, n_estimators=250; total time=   2.5s\n",
      "[CV] END gamma=0.2, learning_rate=0.1, max_depth=3, min_child_weight=2, n_estimators=100; total time=   0.4s\n",
      "[CV] END gamma=0.2, learning_rate=0.1, max_depth=3, min_child_weight=2, n_estimators=100; total time=   0.7s\n",
      "[CV] END gamma=0.2, learning_rate=0.1, max_depth=3, min_child_weight=2, n_estimators=100; total time=   1.0s\n",
      "[CV] END gamma=0.5, learning_rate=0.01, max_depth=3, min_child_weight=4, n_estimators=500; total time=   1.8s\n",
      "[CV] END gamma=0.5, learning_rate=0.01, max_depth=3, min_child_weight=4, n_estimators=500; total time=   3.8s\n",
      "[CV] END gamma=0.5, learning_rate=0.01, max_depth=3, min_child_weight=4, n_estimators=500; total time=   5.6s\n",
      "[CV] END gamma=0.3, learning_rate=0.01, max_depth=3, min_child_weight=4, n_estimators=100; total time=   0.4s\n",
      "[CV] END gamma=0.3, learning_rate=0.01, max_depth=3, min_child_weight=4, n_estimators=100; total time=   0.7s\n",
      "[CV] END gamma=0.3, learning_rate=0.01, max_depth=3, min_child_weight=4, n_estimators=100; total time=   1.0s\n",
      "[CV] END gamma=0.3, learning_rate=0.01, max_depth=3, min_child_weight=2, n_estimators=150; total time=   0.5s\n",
      "[CV] END gamma=0.3, learning_rate=0.01, max_depth=3, min_child_weight=2, n_estimators=150; total time=   1.0s\n",
      "[CV] END gamma=0.3, learning_rate=0.01, max_depth=3, min_child_weight=2, n_estimators=150; total time=   1.6s\n",
      "[CV] END gamma=0.4, learning_rate=0.2, max_depth=8, min_child_weight=2, n_estimators=150; total time=   1.6s\n",
      "[CV] END gamma=0.4, learning_rate=0.2, max_depth=8, min_child_weight=2, n_estimators=150; total time=   3.1s\n",
      "[CV] END gamma=0.4, learning_rate=0.2, max_depth=8, min_child_weight=2, n_estimators=150; total time=   5.7s\n",
      "[CV] END gamma=0.5, learning_rate=0.2, max_depth=5, min_child_weight=6, n_estimators=250; total time=   1.9s\n",
      "[CV] END gamma=0.5, learning_rate=0.2, max_depth=5, min_child_weight=6, n_estimators=250; total time=   3.4s\n",
      "[CV] END gamma=0.5, learning_rate=0.2, max_depth=5, min_child_weight=6, n_estimators=250; total time=   5.0s\n",
      "[CV] END gamma=0.5, learning_rate=0.05, max_depth=3, min_child_weight=4, n_estimators=100; total time=   0.9s\n",
      "[CV] END gamma=0.5, learning_rate=0.05, max_depth=3, min_child_weight=4, n_estimators=100; total time=   0.9s\n",
      "[CV] END gamma=0.5, learning_rate=0.05, max_depth=3, min_child_weight=4, n_estimators=100; total time=   1.2s\n",
      "[CV] END gamma=0.4, learning_rate=0.05, max_depth=3, min_child_weight=6, n_estimators=100; total time=   0.4s\n",
      "[CV] END gamma=0.4, learning_rate=0.05, max_depth=3, min_child_weight=6, n_estimators=100; total time=   0.8s\n",
      "[CV] END gamma=0.4, learning_rate=0.05, max_depth=3, min_child_weight=6, n_estimators=100; total time=   1.0s\n",
      "[CV] END gamma=0.2, learning_rate=0.01, max_depth=3, min_child_weight=6, n_estimators=500; total time=   2.6s\n",
      "[CV] END gamma=0.2, learning_rate=0.01, max_depth=3, min_child_weight=6, n_estimators=500; total time=   3.6s\n",
      "[CV] END gamma=0.2, learning_rate=0.01, max_depth=3, min_child_weight=6, n_estimators=500; total time=   9.6s\n",
      "[CV] END gamma=0.2, learning_rate=0.1, max_depth=3, min_child_weight=4, n_estimators=100; total time=   0.5s\n",
      "[CV] END gamma=0.2, learning_rate=0.1, max_depth=3, min_child_weight=4, n_estimators=100; total time=   0.7s\n",
      "[CV] END gamma=0.2, learning_rate=0.1, max_depth=3, min_child_weight=4, n_estimators=100; total time=   1.2s\n",
      "[CV] END gamma=0.3, learning_rate=0.05, max_depth=3, min_child_weight=2, n_estimators=150; total time=   0.5s\n",
      "[CV] END gamma=0.3, learning_rate=0.05, max_depth=3, min_child_weight=2, n_estimators=150; total time=   2.7s\n",
      "[CV] END gamma=0.3, learning_rate=0.05, max_depth=3, min_child_weight=2, n_estimators=150; total time=   3.8s\n"
     ]
    },
    {
     "name": "stdout",
     "output_type": "stream",
     "text": [
      "[CV] END gamma=0.4, learning_rate=0.01, max_depth=5, min_child_weight=6, n_estimators=150; total time=   1.1s\n",
      "[CV] END gamma=0.4, learning_rate=0.01, max_depth=5, min_child_weight=6, n_estimators=150; total time=   6.8s\n",
      "[CV] END gamma=0.4, learning_rate=0.01, max_depth=5, min_child_weight=6, n_estimators=150; total time=   2.8s\n",
      "[CV] END gamma=0.4, learning_rate=0.01, max_depth=3, min_child_weight=2, n_estimators=150; total time=   0.5s\n",
      "[CV] END gamma=0.4, learning_rate=0.01, max_depth=3, min_child_weight=2, n_estimators=150; total time=   1.1s\n",
      "[CV] END gamma=0.4, learning_rate=0.01, max_depth=3, min_child_weight=2, n_estimators=150; total time=   1.9s\n",
      "[CV] END gamma=0.3, learning_rate=0.05, max_depth=8, min_child_weight=4, n_estimators=500; total time=   4.7s\n",
      "[CV] END gamma=0.3, learning_rate=0.05, max_depth=8, min_child_weight=4, n_estimators=500; total time=   9.8s\n",
      "[CV] END gamma=0.3, learning_rate=0.05, max_depth=8, min_child_weight=4, n_estimators=500; total time=  16.2s\n",
      "[CV] END gamma=0.3, learning_rate=0.2, max_depth=3, min_child_weight=6, n_estimators=150; total time=   0.8s\n",
      "[CV] END gamma=0.3, learning_rate=0.2, max_depth=3, min_child_weight=6, n_estimators=150; total time=   1.0s\n",
      "[CV] END gamma=0.3, learning_rate=0.2, max_depth=3, min_child_weight=6, n_estimators=150; total time=   1.7s\n",
      "[CV] END gamma=0.2, learning_rate=0.1, max_depth=5, min_child_weight=2, n_estimators=250; total time=   1.9s\n",
      "[CV] END gamma=0.2, learning_rate=0.1, max_depth=5, min_child_weight=2, n_estimators=250; total time=   3.0s\n",
      "[CV] END gamma=0.2, learning_rate=0.1, max_depth=5, min_child_weight=2, n_estimators=250; total time=   4.6s\n",
      "[CV] END gamma=0.2, learning_rate=0.2, max_depth=8, min_child_weight=2, n_estimators=100; total time=   1.6s\n",
      "[CV] END gamma=0.2, learning_rate=0.2, max_depth=8, min_child_weight=2, n_estimators=100; total time=   2.1s\n",
      "[CV] END gamma=0.2, learning_rate=0.2, max_depth=8, min_child_weight=2, n_estimators=100; total time=   3.1s\n",
      "[CV] END gamma=0.4, learning_rate=0.2, max_depth=3, min_child_weight=6, n_estimators=500; total time=   2.0s\n",
      "[CV] END gamma=0.4, learning_rate=0.2, max_depth=3, min_child_weight=6, n_estimators=500; total time=   8.1s\n",
      "[CV] END gamma=0.4, learning_rate=0.2, max_depth=3, min_child_weight=6, n_estimators=500; total time=   5.2s\n",
      "[CV] END gamma=0.3, learning_rate=0.05, max_depth=3, min_child_weight=4, n_estimators=150; total time=   0.6s\n",
      "[CV] END gamma=0.3, learning_rate=0.05, max_depth=3, min_child_weight=4, n_estimators=150; total time=   1.2s\n",
      "[CV] END gamma=0.3, learning_rate=0.05, max_depth=3, min_child_weight=4, n_estimators=150; total time=   1.8s\n",
      "[CV] END gamma=0.5, learning_rate=0.2, max_depth=8, min_child_weight=2, n_estimators=100; total time=   1.0s\n",
      "[CV] END gamma=0.5, learning_rate=0.2, max_depth=8, min_child_weight=2, n_estimators=100; total time=   2.0s\n",
      "[CV] END gamma=0.5, learning_rate=0.2, max_depth=8, min_child_weight=2, n_estimators=100; total time=   3.0s\n",
      "[CV] END gamma=0.5, learning_rate=0.01, max_depth=3, min_child_weight=2, n_estimators=250; total time=   0.9s\n",
      "[CV] END gamma=0.5, learning_rate=0.01, max_depth=3, min_child_weight=2, n_estimators=250; total time=   1.7s\n",
      "[CV] END gamma=0.5, learning_rate=0.01, max_depth=3, min_child_weight=2, n_estimators=250; total time=   2.6s\n",
      "[CV] END gamma=0.4, learning_rate=0.01, max_depth=3, min_child_weight=6, n_estimators=250; total time=   1.4s\n",
      "[CV] END gamma=0.4, learning_rate=0.01, max_depth=3, min_child_weight=6, n_estimators=250; total time=   1.9s\n",
      "[CV] END gamma=0.4, learning_rate=0.01, max_depth=3, min_child_weight=6, n_estimators=250; total time=   2.6s\n",
      "[CV] END gamma=0.5, learning_rate=0.2, max_depth=3, min_child_weight=2, n_estimators=100; total time=   0.3s\n",
      "[CV] END gamma=0.5, learning_rate=0.2, max_depth=3, min_child_weight=2, n_estimators=100; total time=   0.6s\n",
      "[CV] END gamma=0.5, learning_rate=0.2, max_depth=3, min_child_weight=2, n_estimators=100; total time=   1.0s\n",
      "[CV] END gamma=0.2, learning_rate=0.01, max_depth=3, min_child_weight=6, n_estimators=150; total time=   0.5s\n",
      "[CV] END gamma=0.2, learning_rate=0.01, max_depth=3, min_child_weight=6, n_estimators=150; total time=   1.0s\n",
      "[CV] END gamma=0.2, learning_rate=0.01, max_depth=3, min_child_weight=6, n_estimators=150; total time=   1.7s\n",
      "[CV] END gamma=0.5, learning_rate=0.01, max_depth=3, min_child_weight=6, n_estimators=100; total time=   0.4s\n",
      "[CV] END gamma=0.5, learning_rate=0.01, max_depth=3, min_child_weight=6, n_estimators=100; total time=   0.8s\n",
      "[CV] END gamma=0.5, learning_rate=0.01, max_depth=3, min_child_weight=6, n_estimators=100; total time=   1.2s\n",
      "[CV] END gamma=0.3, learning_rate=0.2, max_depth=5, min_child_weight=6, n_estimators=250; total time=   1.7s\n",
      "[CV] END gamma=0.3, learning_rate=0.2, max_depth=5, min_child_weight=6, n_estimators=250; total time=   2.9s\n",
      "[CV] END gamma=0.3, learning_rate=0.2, max_depth=5, min_child_weight=6, n_estimators=250; total time=   8.2s\n",
      "[CV] END gamma=0.3, learning_rate=0.05, max_depth=8, min_child_weight=2, n_estimators=100; total time=   1.1s\n",
      "[CV] END gamma=0.3, learning_rate=0.05, max_depth=8, min_child_weight=2, n_estimators=100; total time=   2.5s\n",
      "[CV] END gamma=0.3, learning_rate=0.05, max_depth=8, min_child_weight=2, n_estimators=100; total time=   3.5s\n",
      "[CV] END gamma=0.2, learning_rate=0.1, max_depth=5, min_child_weight=2, n_estimators=100; total time=   0.6s\n",
      "[CV] END gamma=0.2, learning_rate=0.1, max_depth=5, min_child_weight=2, n_estimators=100; total time=   1.1s\n",
      "[CV] END gamma=0.2, learning_rate=0.1, max_depth=5, min_child_weight=2, n_estimators=100; total time=   1.6s\n",
      "[CV] END gamma=0.5, learning_rate=0.05, max_depth=5, min_child_weight=2, n_estimators=250; total time=   1.5s\n",
      "[CV] END gamma=0.5, learning_rate=0.05, max_depth=5, min_child_weight=2, n_estimators=250; total time=   2.9s\n",
      "[CV] END gamma=0.5, learning_rate=0.05, max_depth=5, min_child_weight=2, n_estimators=250; total time=   4.4s\n",
      "[CV] END gamma=0.5, learning_rate=0.2, max_depth=3, min_child_weight=2, n_estimators=500; total time=   1.9s\n",
      "[CV] END gamma=0.5, learning_rate=0.2, max_depth=3, min_child_weight=2, n_estimators=500; total time=   4.4s\n",
      "[CV] END gamma=0.5, learning_rate=0.2, max_depth=3, min_child_weight=2, n_estimators=500; total time=   6.0s\n",
      "[CV] END gamma=0.4, learning_rate=0.1, max_depth=5, min_child_weight=6, n_estimators=150; total time=   0.9s\n",
      "[CV] END gamma=0.4, learning_rate=0.1, max_depth=5, min_child_weight=6, n_estimators=150; total time=   1.8s\n",
      "[CV] END gamma=0.4, learning_rate=0.1, max_depth=5, min_child_weight=6, n_estimators=150; total time=   3.2s\n",
      "[CV] END gamma=0.2, learning_rate=0.2, max_depth=3, min_child_weight=2, n_estimators=150; total time=   0.8s\n",
      "[CV] END gamma=0.2, learning_rate=0.2, max_depth=3, min_child_weight=2, n_estimators=150; total time=   1.0s\n",
      "[CV] END gamma=0.2, learning_rate=0.2, max_depth=3, min_child_weight=2, n_estimators=150; total time=   1.4s\n",
      "[CV] END gamma=0.3, learning_rate=0.2, max_depth=8, min_child_weight=6, n_estimators=500; total time=   4.8s\n",
      "[CV] END gamma=0.3, learning_rate=0.2, max_depth=8, min_child_weight=6, n_estimators=500; total time=  12.5s\n",
      "[CV] END gamma=0.3, learning_rate=0.2, max_depth=8, min_child_weight=6, n_estimators=500; total time=  14.8s\n",
      "[CV] END gamma=0.2, learning_rate=0.1, max_depth=8, min_child_weight=4, n_estimators=150; total time=   1.7s\n",
      "[CV] END gamma=0.2, learning_rate=0.1, max_depth=8, min_child_weight=4, n_estimators=150; total time=   3.2s\n",
      "[CV] END gamma=0.2, learning_rate=0.1, max_depth=8, min_child_weight=4, n_estimators=150; total time=   4.9s\n",
      "[CV] END gamma=0.2, learning_rate=0.2, max_depth=8, min_child_weight=4, n_estimators=150; total time=   1.6s\n",
      "[CV] END gamma=0.2, learning_rate=0.2, max_depth=8, min_child_weight=4, n_estimators=150; total time=   3.6s\n",
      "[CV] END gamma=0.2, learning_rate=0.2, max_depth=8, min_child_weight=4, n_estimators=150; total time=   4.5s\n",
      "[CV] END gamma=0.5, learning_rate=0.2, max_depth=5, min_child_weight=4, n_estimators=250; total time=   1.6s\n",
      "[CV] END gamma=0.5, learning_rate=0.2, max_depth=5, min_child_weight=4, n_estimators=250; total time=   4.2s\n",
      "[CV] END gamma=0.5, learning_rate=0.2, max_depth=5, min_child_weight=4, n_estimators=250; total time=   4.3s\n"
     ]
    },
    {
     "name": "stdout",
     "output_type": "stream",
     "text": [
      "RandomizedSearchCV took 955.05 seconds for 100 candidates parameter settings.\n"
     ]
    }
   ],
   "source": [
    "from xgboost import XGBRegressor\n",
    "from sklearn.model_selection import RandomizedSearchCV\n",
    "from sklearn.model_selection import TimeSeriesSplit, cross_val_score\n",
    "import time\n",
    "\n",
    "# n_estimators doit être tune plus tard \n",
    "# car les paramètres échantillonnés avec des n_estimators plus élevés\n",
    "# obtiendront un avantage injuste (default=100)\n",
    "params = {\n",
    "    'n_estimators': [100, 150, 250, 500],\n",
    "    'min_child_weight': [2, 4, 6],\n",
    "    'gamma': [i/10.0 for i in range(2, 6)],\n",
    "    'max_depth': [3, 5, 8],\n",
    "    'learning_rate': [0.01, 0.05, 0.1, 0.2]\n",
    "}\n",
    "\n",
    "reg = XGBRegressor(seed=42)\n",
    "\n",
    "n_iter_search = 100\n",
    "cv_ts = TimeSeriesSplit(n_splits=3)\n",
    "random_search = RandomizedSearchCV(reg, param_distributions=params, verbose = 2,\n",
    "                                   n_iter=n_iter_search, cv=cv_ts, scoring='neg_mean_squared_error', random_state=42)\n",
    "\n",
    "start = time.time()\n",
    "random_search.fit(X_train, y_train)\n",
    "print(\"RandomizedSearchCV took %.2f seconds for %d candidates\"\n",
    "      \" parameter settings.\" % ((time.time() - start), n_iter_search))"
   ]
  },
  {
   "cell_type": "code",
   "execution_count": 118,
   "id": "a84c41df",
   "metadata": {
    "ExecuteTime": {
     "end_time": "2021-06-22T15:52:38.782062Z",
     "start_time": "2021-06-22T15:52:37.645777Z"
    }
   },
   "outputs": [
    {
     "data": {
      "text/plain": [
       "XGBRegressor(base_score=0.5, booster='gbtree', colsample_bylevel=1,\n",
       "             colsample_bynode=1, colsample_bytree=1.0, gamma=0.5, gpu_id=-1,\n",
       "             importance_type='gain', interaction_constraints='',\n",
       "             learning_rate=0.1, max_delta_step=0, max_depth=3,\n",
       "             min_child_weight=4, missing=nan, monotone_constraints='()',\n",
       "             n_estimators=95, n_jobs=8, num_parallel_tree=1, random_state=0,\n",
       "             reg_alpha=0, reg_lambda=1, scale_pos_weight=1, subsample=1,\n",
       "             tree_method='exact', validate_parameters=1, verbosity=None)"
      ]
     },
     "execution_count": 118,
     "metadata": {},
     "output_type": "execute_result"
    }
   ],
   "source": [
    "best_xgbr = XGBRegressor(base_score=0.5, booster='gbtree', colsample_bylevel=1,\n",
    "             colsample_bynode=1, colsample_bytree=1.0, gamma=0.5, gpu_id=-1,\n",
    "             importance_type='gain', interaction_constraints='',\n",
    "             learning_rate=0.1, max_delta_step=0, max_depth=3,\n",
    "             min_child_weight=4, monotone_constraints='()',\n",
    "             n_estimators=95, n_jobs=8, num_parallel_tree=1, random_state=0,\n",
    "             reg_alpha=0, reg_lambda=1, scale_pos_weight=1, subsample=1,\n",
    "             tree_method='exact', validate_parameters=1, verbosity=None)\n",
    "\n",
    "best_xgbr.fit(X_train, y_train)"
   ]
  },
  {
   "cell_type": "code",
   "execution_count": 119,
   "id": "7dbf68dd",
   "metadata": {
    "ExecuteTime": {
     "end_time": "2021-06-22T15:52:38.803912Z",
     "start_time": "2021-06-22T15:52:38.784222Z"
    }
   },
   "outputs": [
    {
     "name": "stdout",
     "output_type": "stream",
     "text": [
      "Root Mean Square Error            = 22.122820724498332\n",
      "Mean Absolute Error               = 16.154971986274795\n",
      "Median Absolute Error             = 12.76448690834031\n"
     ]
    }
   ],
   "source": [
    "from sklearn.metrics import mean_squared_error, mean_absolute_error, median_absolute_error\n",
    "\n",
    "def print_metrics(y_true, y_predicted):\n",
    "\n",
    "    print('Root Mean Square Error            = ' +\n",
    "          str(np.sqrt(mean_squared_error(y_true, y_predicted))))\n",
    "    print('Mean Absolute Error               = ' +\n",
    "          str(mean_absolute_error(y_true, y_predicted)))\n",
    "    print('Median Absolute Error             = ' +\n",
    "          str(median_absolute_error(y_true, y_predicted))) \n",
    "\n",
    "y_pred = best_xgbr.predict(X_test)\n",
    "print_metrics(y_test**2, y_pred**2)"
   ]
  },
  {
   "cell_type": "code",
   "execution_count": 120,
   "id": "fbe97a7c",
   "metadata": {
    "ExecuteTime": {
     "end_time": "2021-06-22T15:52:45.546198Z",
     "start_time": "2021-06-22T15:52:45.537606Z"
    }
   },
   "outputs": [],
   "source": [
    "pickle.dump(best_xgbr, open('models/best_xgbr.sav', 'wb'))"
   ]
  },
  {
   "cell_type": "code",
   "execution_count": 76,
   "id": "8fd265b4",
   "metadata": {
    "ExecuteTime": {
     "end_time": "2021-06-22T15:13:10.158097Z",
     "start_time": "2021-06-22T15:06:26.779328Z"
    }
   },
   "outputs": [
    {
     "name": "stdout",
     "output_type": "stream",
     "text": [
      "Fitting 3 folds for each of 100 candidates, totalling 300 fits\n",
      "[CV] END boosting_type=dart, learning_rate=0.05, max_depth=8, n_estimators=100, num_leaves=8; total time=   0.2s\n",
      "[CV] END boosting_type=dart, learning_rate=0.05, max_depth=8, n_estimators=100, num_leaves=8; total time=   0.3s\n",
      "[CV] END boosting_type=dart, learning_rate=0.05, max_depth=8, n_estimators=100, num_leaves=8; total time=   0.4s\n",
      "[CV] END boosting_type=dart, learning_rate=0.01, max_depth=8, n_estimators=250, num_leaves=8; total time=   0.6s\n",
      "[CV] END boosting_type=dart, learning_rate=0.01, max_depth=8, n_estimators=250, num_leaves=8; total time=   1.3s\n",
      "[CV] END boosting_type=dart, learning_rate=0.01, max_depth=8, n_estimators=250, num_leaves=8; total time=   1.7s\n",
      "[CV] END boosting_type=gbdt, learning_rate=0.01, max_depth=8, n_estimators=250, num_leaves=256; total time=   1.6s\n",
      "[CV] END boosting_type=gbdt, learning_rate=0.01, max_depth=8, n_estimators=250, num_leaves=256; total time=   2.0s\n",
      "[CV] END boosting_type=gbdt, learning_rate=0.01, max_depth=8, n_estimators=250, num_leaves=256; total time=   2.4s\n",
      "[CV] END boosting_type=gbdt, learning_rate=0.2, max_depth=3, n_estimators=500, num_leaves=128; total time=   0.4s\n",
      "[CV] END boosting_type=gbdt, learning_rate=0.2, max_depth=3, n_estimators=500, num_leaves=128; total time=   0.5s\n",
      "[CV] END boosting_type=gbdt, learning_rate=0.2, max_depth=3, n_estimators=500, num_leaves=128; total time=   0.7s\n",
      "[CV] END boosting_type=dart, learning_rate=0.2, max_depth=5, n_estimators=250, num_leaves=128; total time=   1.0s\n",
      "[CV] END boosting_type=dart, learning_rate=0.2, max_depth=5, n_estimators=250, num_leaves=128; total time=   1.8s\n",
      "[CV] END boosting_type=dart, learning_rate=0.2, max_depth=5, n_estimators=250, num_leaves=128; total time=   2.8s\n",
      "[CV] END boosting_type=gbdt, learning_rate=0.05, max_depth=3, n_estimators=150, num_leaves=8; total time=   0.3s\n",
      "[CV] END boosting_type=gbdt, learning_rate=0.05, max_depth=3, n_estimators=150, num_leaves=8; total time=   0.2s\n",
      "[CV] END boosting_type=gbdt, learning_rate=0.05, max_depth=3, n_estimators=150, num_leaves=8; total time=   0.5s\n",
      "[CV] END boosting_type=gbdt, learning_rate=0.05, max_depth=3, n_estimators=100, num_leaves=128; total time=   0.1s\n",
      "[CV] END boosting_type=gbdt, learning_rate=0.05, max_depth=3, n_estimators=100, num_leaves=128; total time=   0.3s\n",
      "[CV] END boosting_type=gbdt, learning_rate=0.05, max_depth=3, n_estimators=100, num_leaves=128; total time=   0.2s\n",
      "[CV] END boosting_type=gbdt, learning_rate=0.1, max_depth=5, n_estimators=150, num_leaves=8; total time=   0.1s\n",
      "[CV] END boosting_type=gbdt, learning_rate=0.1, max_depth=5, n_estimators=150, num_leaves=8; total time=   0.2s\n",
      "[CV] END boosting_type=gbdt, learning_rate=0.1, max_depth=5, n_estimators=150, num_leaves=8; total time=   0.3s\n",
      "[CV] END boosting_type=dart, learning_rate=0.01, max_depth=8, n_estimators=250, num_leaves=64; total time=   1.5s\n",
      "[CV] END boosting_type=dart, learning_rate=0.01, max_depth=8, n_estimators=250, num_leaves=64; total time=   2.9s\n",
      "[CV] END boosting_type=dart, learning_rate=0.01, max_depth=8, n_estimators=250, num_leaves=64; total time=   3.7s\n",
      "[CV] END boosting_type=dart, learning_rate=0.1, max_depth=5, n_estimators=250, num_leaves=8; total time=   0.6s\n",
      "[CV] END boosting_type=dart, learning_rate=0.1, max_depth=5, n_estimators=250, num_leaves=8; total time=   1.1s\n",
      "[CV] END boosting_type=dart, learning_rate=0.1, max_depth=5, n_estimators=250, num_leaves=8; total time=   1.5s\n",
      "[CV] END boosting_type=goss, learning_rate=0.2, max_depth=8, n_estimators=150, num_leaves=32; total time=   0.3s\n",
      "[CV] END boosting_type=goss, learning_rate=0.2, max_depth=8, n_estimators=150, num_leaves=32; total time=   0.4s\n",
      "[CV] END boosting_type=goss, learning_rate=0.2, max_depth=8, n_estimators=150, num_leaves=32; total time=   0.5s\n",
      "[CV] END boosting_type=dart, learning_rate=0.2, max_depth=5, n_estimators=150, num_leaves=128; total time=   0.5s\n",
      "[CV] END boosting_type=dart, learning_rate=0.2, max_depth=5, n_estimators=150, num_leaves=128; total time=   0.8s\n",
      "[CV] END boosting_type=dart, learning_rate=0.2, max_depth=5, n_estimators=150, num_leaves=128; total time=   1.1s\n",
      "[CV] END boosting_type=gbdt, learning_rate=0.01, max_depth=5, n_estimators=500, num_leaves=256; total time=   0.8s\n",
      "[CV] END boosting_type=gbdt, learning_rate=0.01, max_depth=5, n_estimators=500, num_leaves=256; total time=   1.2s\n",
      "[CV] END boosting_type=gbdt, learning_rate=0.01, max_depth=5, n_estimators=500, num_leaves=256; total time=   1.6s\n",
      "[CV] END boosting_type=gbdt, learning_rate=0.05, max_depth=8, n_estimators=100, num_leaves=32; total time=   0.2s\n",
      "[CV] END boosting_type=gbdt, learning_rate=0.05, max_depth=8, n_estimators=100, num_leaves=32; total time=   0.3s\n",
      "[CV] END boosting_type=gbdt, learning_rate=0.05, max_depth=8, n_estimators=100, num_leaves=32; total time=   0.4s\n",
      "[CV] END boosting_type=dart, learning_rate=0.2, max_depth=3, n_estimators=250, num_leaves=8; total time=   0.6s\n",
      "[CV] END boosting_type=dart, learning_rate=0.2, max_depth=3, n_estimators=250, num_leaves=8; total time=   1.0s\n",
      "[CV] END boosting_type=dart, learning_rate=0.2, max_depth=3, n_estimators=250, num_leaves=8; total time=   1.5s\n",
      "[CV] END boosting_type=dart, learning_rate=0.05, max_depth=5, n_estimators=150, num_leaves=128; total time=   0.5s\n",
      "[CV] END boosting_type=dart, learning_rate=0.05, max_depth=5, n_estimators=150, num_leaves=128; total time=   1.3s\n",
      "[CV] END boosting_type=dart, learning_rate=0.05, max_depth=5, n_estimators=150, num_leaves=128; total time=   1.2s\n",
      "[CV] END boosting_type=gbdt, learning_rate=0.05, max_depth=5, n_estimators=150, num_leaves=32; total time=   0.3s\n",
      "[CV] END boosting_type=gbdt, learning_rate=0.05, max_depth=5, n_estimators=150, num_leaves=32; total time=   0.4s\n",
      "[CV] END boosting_type=gbdt, learning_rate=0.05, max_depth=5, n_estimators=150, num_leaves=32; total time=   0.4s\n",
      "[CV] END boosting_type=goss, learning_rate=0.1, max_depth=5, n_estimators=150, num_leaves=64; total time=   0.3s\n",
      "[CV] END boosting_type=goss, learning_rate=0.1, max_depth=5, n_estimators=150, num_leaves=64; total time=   0.4s\n",
      "[CV] END boosting_type=goss, learning_rate=0.1, max_depth=5, n_estimators=150, num_leaves=64; total time=   0.5s\n",
      "[CV] END boosting_type=dart, learning_rate=0.01, max_depth=3, n_estimators=500, num_leaves=256; total time=   1.7s\n",
      "[CV] END boosting_type=dart, learning_rate=0.01, max_depth=3, n_estimators=500, num_leaves=256; total time=   3.4s\n",
      "[CV] END boosting_type=dart, learning_rate=0.01, max_depth=3, n_estimators=500, num_leaves=256; total time=   4.8s\n",
      "[CV] END boosting_type=gbdt, learning_rate=0.2, max_depth=5, n_estimators=250, num_leaves=128; total time=   0.3s\n",
      "[CV] END boosting_type=gbdt, learning_rate=0.2, max_depth=5, n_estimators=250, num_leaves=128; total time=   0.5s\n",
      "[CV] END boosting_type=gbdt, learning_rate=0.2, max_depth=5, n_estimators=250, num_leaves=128; total time=   0.6s\n",
      "[CV] END boosting_type=dart, learning_rate=0.2, max_depth=5, n_estimators=150, num_leaves=32; total time=   0.5s\n",
      "[CV] END boosting_type=dart, learning_rate=0.2, max_depth=5, n_estimators=150, num_leaves=32; total time=   0.8s\n",
      "[CV] END boosting_type=dart, learning_rate=0.2, max_depth=5, n_estimators=150, num_leaves=32; total time=   1.1s\n",
      "[CV] END boosting_type=dart, learning_rate=0.1, max_depth=3, n_estimators=150, num_leaves=64; total time=   0.3s\n",
      "[CV] END boosting_type=dart, learning_rate=0.1, max_depth=3, n_estimators=150, num_leaves=64; total time=   0.5s\n",
      "[CV] END boosting_type=dart, learning_rate=0.1, max_depth=3, n_estimators=150, num_leaves=64; total time=   0.7s\n",
      "[CV] END boosting_type=gbdt, learning_rate=0.01, max_depth=5, n_estimators=250, num_leaves=128; total time=   0.5s\n",
      "[CV] END boosting_type=gbdt, learning_rate=0.01, max_depth=5, n_estimators=250, num_leaves=128; total time=   0.7s\n",
      "[CV] END boosting_type=gbdt, learning_rate=0.01, max_depth=5, n_estimators=250, num_leaves=128; total time=   0.8s\n",
      "[CV] END boosting_type=goss, learning_rate=0.2, max_depth=5, n_estimators=150, num_leaves=32; total time=   0.3s\n",
      "[CV] END boosting_type=goss, learning_rate=0.2, max_depth=5, n_estimators=150, num_leaves=32; total time=   0.4s\n",
      "[CV] END boosting_type=goss, learning_rate=0.2, max_depth=5, n_estimators=150, num_leaves=32; total time=   0.5s\n"
     ]
    },
    {
     "name": "stdout",
     "output_type": "stream",
     "text": [
      "[CV] END boosting_type=dart, learning_rate=0.2, max_depth=8, n_estimators=500, num_leaves=128; total time=   5.4s\n",
      "[CV] END boosting_type=dart, learning_rate=0.2, max_depth=8, n_estimators=500, num_leaves=128; total time=   9.6s\n",
      "[CV] END boosting_type=dart, learning_rate=0.2, max_depth=8, n_estimators=500, num_leaves=128; total time=  13.5s\n",
      "[CV] END boosting_type=dart, learning_rate=0.05, max_depth=5, n_estimators=100, num_leaves=128; total time=   0.3s\n",
      "[CV] END boosting_type=dart, learning_rate=0.05, max_depth=5, n_estimators=100, num_leaves=128; total time=   0.5s\n",
      "[CV] END boosting_type=dart, learning_rate=0.05, max_depth=5, n_estimators=100, num_leaves=128; total time=   0.7s\n",
      "[CV] END boosting_type=dart, learning_rate=0.01, max_depth=3, n_estimators=250, num_leaves=256; total time=   0.8s\n",
      "[CV] END boosting_type=dart, learning_rate=0.01, max_depth=3, n_estimators=250, num_leaves=256; total time=   1.9s\n",
      "[CV] END boosting_type=dart, learning_rate=0.01, max_depth=3, n_estimators=250, num_leaves=256; total time=   1.5s\n",
      "[CV] END boosting_type=gbdt, learning_rate=0.2, max_depth=5, n_estimators=250, num_leaves=8; total time=   0.2s\n",
      "[CV] END boosting_type=gbdt, learning_rate=0.2, max_depth=5, n_estimators=250, num_leaves=8; total time=   0.3s\n",
      "[CV] END boosting_type=gbdt, learning_rate=0.2, max_depth=5, n_estimators=250, num_leaves=8; total time=   0.4s\n",
      "[CV] END boosting_type=gbdt, learning_rate=0.1, max_depth=3, n_estimators=100, num_leaves=8; total time=   0.1s\n",
      "[CV] END boosting_type=gbdt, learning_rate=0.1, max_depth=3, n_estimators=100, num_leaves=8; total time=   0.2s\n",
      "[CV] END boosting_type=gbdt, learning_rate=0.1, max_depth=3, n_estimators=100, num_leaves=8; total time=   0.2s\n",
      "[CV] END boosting_type=gbdt, learning_rate=0.1, max_depth=3, n_estimators=250, num_leaves=128; total time=   0.2s\n",
      "[CV] END boosting_type=gbdt, learning_rate=0.1, max_depth=3, n_estimators=250, num_leaves=128; total time=   0.3s\n",
      "[CV] END boosting_type=gbdt, learning_rate=0.1, max_depth=3, n_estimators=250, num_leaves=128; total time=   0.4s\n",
      "[CV] END boosting_type=dart, learning_rate=0.1, max_depth=8, n_estimators=500, num_leaves=64; total time=   4.4s\n",
      "[CV] END boosting_type=dart, learning_rate=0.1, max_depth=8, n_estimators=500, num_leaves=64; total time=   7.1s\n",
      "[CV] END boosting_type=dart, learning_rate=0.1, max_depth=8, n_estimators=500, num_leaves=64; total time=  11.7s\n",
      "[CV] END boosting_type=dart, learning_rate=0.1, max_depth=3, n_estimators=100, num_leaves=128; total time=   0.2s\n",
      "[CV] END boosting_type=dart, learning_rate=0.1, max_depth=3, n_estimators=100, num_leaves=128; total time=   0.3s\n",
      "[CV] END boosting_type=dart, learning_rate=0.1, max_depth=3, n_estimators=100, num_leaves=128; total time=   0.4s\n",
      "[CV] END boosting_type=dart, learning_rate=0.05, max_depth=5, n_estimators=500, num_leaves=32; total time=   3.1s\n",
      "[CV] END boosting_type=dart, learning_rate=0.05, max_depth=5, n_estimators=500, num_leaves=32; total time=   5.7s\n",
      "[CV] END boosting_type=dart, learning_rate=0.05, max_depth=5, n_estimators=500, num_leaves=32; total time=   8.4s\n",
      "[CV] END boosting_type=dart, learning_rate=0.1, max_depth=3, n_estimators=500, num_leaves=8; total time=   1.7s\n",
      "[CV] END boosting_type=dart, learning_rate=0.1, max_depth=3, n_estimators=500, num_leaves=8; total time=   3.1s\n",
      "[CV] END boosting_type=dart, learning_rate=0.1, max_depth=3, n_estimators=500, num_leaves=8; total time=   4.4s\n",
      "[CV] END boosting_type=goss, learning_rate=0.05, max_depth=5, n_estimators=250, num_leaves=32; total time=   0.4s\n",
      "[CV] END boosting_type=goss, learning_rate=0.05, max_depth=5, n_estimators=250, num_leaves=32; total time=   0.5s\n",
      "[CV] END boosting_type=goss, learning_rate=0.05, max_depth=5, n_estimators=250, num_leaves=32; total time=   0.8s\n",
      "[CV] END boosting_type=goss, learning_rate=0.1, max_depth=5, n_estimators=500, num_leaves=32; total time=   0.7s\n",
      "[CV] END boosting_type=goss, learning_rate=0.1, max_depth=5, n_estimators=500, num_leaves=32; total time=   1.0s\n",
      "[CV] END boosting_type=goss, learning_rate=0.1, max_depth=5, n_estimators=500, num_leaves=32; total time=   1.3s\n",
      "[CV] END boosting_type=goss, learning_rate=0.2, max_depth=8, n_estimators=500, num_leaves=32; total time=   1.0s\n",
      "[CV] END boosting_type=goss, learning_rate=0.2, max_depth=8, n_estimators=500, num_leaves=32; total time=   1.3s\n",
      "[CV] END boosting_type=goss, learning_rate=0.2, max_depth=8, n_estimators=500, num_leaves=32; total time=   1.6s\n",
      "[CV] END boosting_type=goss, learning_rate=0.05, max_depth=5, n_estimators=150, num_leaves=256; total time=   0.2s\n",
      "[CV] END boosting_type=goss, learning_rate=0.05, max_depth=5, n_estimators=150, num_leaves=256; total time=   0.4s\n",
      "[CV] END boosting_type=goss, learning_rate=0.05, max_depth=5, n_estimators=150, num_leaves=256; total time=   0.5s\n",
      "[CV] END boosting_type=goss, learning_rate=0.05, max_depth=8, n_estimators=100, num_leaves=128; total time=   0.6s\n",
      "[CV] END boosting_type=goss, learning_rate=0.05, max_depth=8, n_estimators=100, num_leaves=128; total time=   1.5s\n",
      "[CV] END boosting_type=goss, learning_rate=0.05, max_depth=8, n_estimators=100, num_leaves=128; total time=   2.5s\n",
      "[CV] END boosting_type=goss, learning_rate=0.01, max_depth=3, n_estimators=250, num_leaves=128; total time=   0.2s\n",
      "[CV] END boosting_type=goss, learning_rate=0.01, max_depth=3, n_estimators=250, num_leaves=128; total time=   0.4s\n",
      "[CV] END boosting_type=goss, learning_rate=0.01, max_depth=3, n_estimators=250, num_leaves=128; total time=   0.5s\n",
      "[CV] END boosting_type=dart, learning_rate=0.05, max_depth=3, n_estimators=100, num_leaves=8; total time=   0.2s\n",
      "[CV] END boosting_type=dart, learning_rate=0.05, max_depth=3, n_estimators=100, num_leaves=8; total time=   0.3s\n",
      "[CV] END boosting_type=dart, learning_rate=0.05, max_depth=3, n_estimators=100, num_leaves=8; total time=   0.4s\n",
      "[CV] END boosting_type=gbdt, learning_rate=0.1, max_depth=3, n_estimators=500, num_leaves=8; total time=   0.4s\n",
      "[CV] END boosting_type=gbdt, learning_rate=0.1, max_depth=3, n_estimators=500, num_leaves=8; total time=   0.6s\n",
      "[CV] END boosting_type=gbdt, learning_rate=0.1, max_depth=3, n_estimators=500, num_leaves=8; total time=   0.8s\n",
      "[CV] END boosting_type=gbdt, learning_rate=0.01, max_depth=8, n_estimators=150, num_leaves=256; total time=   0.8s\n",
      "[CV] END boosting_type=gbdt, learning_rate=0.01, max_depth=8, n_estimators=150, num_leaves=256; total time=   1.3s\n",
      "[CV] END boosting_type=gbdt, learning_rate=0.01, max_depth=8, n_estimators=150, num_leaves=256; total time=   1.6s\n",
      "[CV] END boosting_type=goss, learning_rate=0.2, max_depth=8, n_estimators=250, num_leaves=64; total time=   0.8s\n",
      "[CV] END boosting_type=goss, learning_rate=0.2, max_depth=8, n_estimators=250, num_leaves=64; total time=   0.9s\n",
      "[CV] END boosting_type=goss, learning_rate=0.2, max_depth=8, n_estimators=250, num_leaves=64; total time=   1.3s\n",
      "[CV] END boosting_type=dart, learning_rate=0.1, max_depth=8, n_estimators=500, num_leaves=32; total time=   3.2s\n",
      "[CV] END boosting_type=dart, learning_rate=0.1, max_depth=8, n_estimators=500, num_leaves=32; total time=   6.2s\n",
      "[CV] END boosting_type=dart, learning_rate=0.1, max_depth=8, n_estimators=500, num_leaves=32; total time=   7.9s\n",
      "[CV] END boosting_type=gbdt, learning_rate=0.05, max_depth=3, n_estimators=250, num_leaves=64; total time=   0.2s\n",
      "[CV] END boosting_type=gbdt, learning_rate=0.05, max_depth=3, n_estimators=250, num_leaves=64; total time=   0.3s\n",
      "[CV] END boosting_type=gbdt, learning_rate=0.05, max_depth=3, n_estimators=250, num_leaves=64; total time=   0.4s\n",
      "[CV] END boosting_type=dart, learning_rate=0.05, max_depth=8, n_estimators=100, num_leaves=64; total time=   0.5s\n",
      "[CV] END boosting_type=dart, learning_rate=0.05, max_depth=8, n_estimators=100, num_leaves=64; total time=   0.8s\n",
      "[CV] END boosting_type=dart, learning_rate=0.05, max_depth=8, n_estimators=100, num_leaves=64; total time=   1.0s\n",
      "[CV] END boosting_type=goss, learning_rate=0.05, max_depth=8, n_estimators=500, num_leaves=64; total time=   1.3s\n",
      "[CV] END boosting_type=goss, learning_rate=0.05, max_depth=8, n_estimators=500, num_leaves=64; total time=   1.8s\n",
      "[CV] END boosting_type=goss, learning_rate=0.05, max_depth=8, n_estimators=500, num_leaves=64; total time=   2.5s\n",
      "[CV] END boosting_type=goss, learning_rate=0.1, max_depth=8, n_estimators=250, num_leaves=32; total time=   0.8s\n"
     ]
    },
    {
     "name": "stdout",
     "output_type": "stream",
     "text": [
      "[CV] END boosting_type=goss, learning_rate=0.1, max_depth=8, n_estimators=250, num_leaves=32; total time=   0.8s\n",
      "[CV] END boosting_type=goss, learning_rate=0.1, max_depth=8, n_estimators=250, num_leaves=32; total time=   1.1s\n",
      "[CV] END boosting_type=gbdt, learning_rate=0.05, max_depth=3, n_estimators=500, num_leaves=64; total time=   0.4s\n",
      "[CV] END boosting_type=gbdt, learning_rate=0.05, max_depth=3, n_estimators=500, num_leaves=64; total time=   0.8s\n",
      "[CV] END boosting_type=gbdt, learning_rate=0.05, max_depth=3, n_estimators=500, num_leaves=64; total time=   1.0s\n",
      "[CV] END boosting_type=goss, learning_rate=0.01, max_depth=8, n_estimators=100, num_leaves=64; total time=   0.4s\n",
      "[CV] END boosting_type=goss, learning_rate=0.01, max_depth=8, n_estimators=100, num_leaves=64; total time=   0.5s\n",
      "[CV] END boosting_type=goss, learning_rate=0.01, max_depth=8, n_estimators=100, num_leaves=64; total time=   0.7s\n",
      "[CV] END boosting_type=goss, learning_rate=0.2, max_depth=3, n_estimators=250, num_leaves=64; total time=   0.2s\n",
      "[CV] END boosting_type=goss, learning_rate=0.2, max_depth=3, n_estimators=250, num_leaves=64; total time=   0.4s\n",
      "[CV] END boosting_type=goss, learning_rate=0.2, max_depth=3, n_estimators=250, num_leaves=64; total time=   0.5s\n",
      "[CV] END boosting_type=dart, learning_rate=0.2, max_depth=3, n_estimators=500, num_leaves=64; total time=   2.2s\n",
      "[CV] END boosting_type=dart, learning_rate=0.2, max_depth=3, n_estimators=500, num_leaves=64; total time=   5.3s\n",
      "[CV] END boosting_type=dart, learning_rate=0.2, max_depth=3, n_estimators=500, num_leaves=64; total time=   4.8s\n",
      "[CV] END boosting_type=goss, learning_rate=0.05, max_depth=8, n_estimators=250, num_leaves=32; total time=   0.9s\n",
      "[CV] END boosting_type=goss, learning_rate=0.05, max_depth=8, n_estimators=250, num_leaves=32; total time=   0.7s\n",
      "[CV] END boosting_type=goss, learning_rate=0.05, max_depth=8, n_estimators=250, num_leaves=32; total time=   0.9s\n",
      "[CV] END boosting_type=gbdt, learning_rate=0.1, max_depth=3, n_estimators=250, num_leaves=32; total time=   0.2s\n",
      "[CV] END boosting_type=gbdt, learning_rate=0.1, max_depth=3, n_estimators=250, num_leaves=32; total time=   0.3s\n",
      "[CV] END boosting_type=gbdt, learning_rate=0.1, max_depth=3, n_estimators=250, num_leaves=32; total time=   0.4s\n",
      "[CV] END boosting_type=dart, learning_rate=0.05, max_depth=8, n_estimators=250, num_leaves=64; total time=   1.8s\n",
      "[CV] END boosting_type=dart, learning_rate=0.05, max_depth=8, n_estimators=250, num_leaves=64; total time=   2.6s\n",
      "[CV] END boosting_type=dart, learning_rate=0.05, max_depth=8, n_estimators=250, num_leaves=64; total time=   3.8s\n",
      "[CV] END boosting_type=gbdt, learning_rate=0.2, max_depth=5, n_estimators=250, num_leaves=32; total time=   0.4s\n",
      "[CV] END boosting_type=gbdt, learning_rate=0.2, max_depth=5, n_estimators=250, num_leaves=32; total time=   0.5s\n",
      "[CV] END boosting_type=gbdt, learning_rate=0.2, max_depth=5, n_estimators=250, num_leaves=32; total time=   0.7s\n",
      "[CV] END boosting_type=gbdt, learning_rate=0.2, max_depth=5, n_estimators=500, num_leaves=8; total time=   0.5s\n",
      "[CV] END boosting_type=gbdt, learning_rate=0.2, max_depth=5, n_estimators=500, num_leaves=8; total time=   0.7s\n",
      "[CV] END boosting_type=gbdt, learning_rate=0.2, max_depth=5, n_estimators=500, num_leaves=8; total time=   0.8s\n",
      "[CV] END boosting_type=gbdt, learning_rate=0.05, max_depth=5, n_estimators=100, num_leaves=256; total time=   0.2s\n",
      "[CV] END boosting_type=gbdt, learning_rate=0.05, max_depth=5, n_estimators=100, num_leaves=256; total time=   0.3s\n",
      "[CV] END boosting_type=gbdt, learning_rate=0.05, max_depth=5, n_estimators=100, num_leaves=256; total time=   0.4s\n",
      "[CV] END boosting_type=dart, learning_rate=0.05, max_depth=5, n_estimators=150, num_leaves=256; total time=   0.6s\n",
      "[CV] END boosting_type=dart, learning_rate=0.05, max_depth=5, n_estimators=150, num_leaves=256; total time=   1.1s\n",
      "[CV] END boosting_type=dart, learning_rate=0.05, max_depth=5, n_estimators=150, num_leaves=256; total time=   1.7s\n",
      "[CV] END boosting_type=goss, learning_rate=0.01, max_depth=8, n_estimators=250, num_leaves=64; total time=   0.8s\n",
      "[CV] END boosting_type=goss, learning_rate=0.01, max_depth=8, n_estimators=250, num_leaves=64; total time=   1.2s\n",
      "[CV] END boosting_type=goss, learning_rate=0.01, max_depth=8, n_estimators=250, num_leaves=64; total time=   2.2s\n",
      "[CV] END boosting_type=gbdt, learning_rate=0.01, max_depth=3, n_estimators=250, num_leaves=8; total time=   0.3s\n",
      "[CV] END boosting_type=gbdt, learning_rate=0.01, max_depth=3, n_estimators=250, num_leaves=8; total time=   0.4s\n",
      "[CV] END boosting_type=gbdt, learning_rate=0.01, max_depth=3, n_estimators=250, num_leaves=8; total time=   0.6s\n",
      "[CV] END boosting_type=gbdt, learning_rate=0.05, max_depth=3, n_estimators=500, num_leaves=128; total time=   0.4s\n",
      "[CV] END boosting_type=gbdt, learning_rate=0.05, max_depth=3, n_estimators=500, num_leaves=128; total time=   0.5s\n",
      "[CV] END boosting_type=gbdt, learning_rate=0.05, max_depth=3, n_estimators=500, num_leaves=128; total time=   0.8s\n",
      "[CV] END boosting_type=dart, learning_rate=0.1, max_depth=5, n_estimators=250, num_leaves=128; total time=   1.3s\n",
      "[CV] END boosting_type=dart, learning_rate=0.1, max_depth=5, n_estimators=250, num_leaves=128; total time=   2.7s\n",
      "[CV] END boosting_type=dart, learning_rate=0.1, max_depth=5, n_estimators=250, num_leaves=128; total time=   2.8s\n",
      "[CV] END boosting_type=dart, learning_rate=0.01, max_depth=3, n_estimators=250, num_leaves=8; total time=   0.7s\n",
      "[CV] END boosting_type=dart, learning_rate=0.01, max_depth=3, n_estimators=250, num_leaves=8; total time=   1.1s\n",
      "[CV] END boosting_type=dart, learning_rate=0.01, max_depth=3, n_estimators=250, num_leaves=8; total time=   1.6s\n",
      "[CV] END boosting_type=gbdt, learning_rate=0.05, max_depth=5, n_estimators=500, num_leaves=64; total time=   0.7s\n",
      "[CV] END boosting_type=gbdt, learning_rate=0.05, max_depth=5, n_estimators=500, num_leaves=64; total time=   1.0s\n",
      "[CV] END boosting_type=gbdt, learning_rate=0.05, max_depth=5, n_estimators=500, num_leaves=64; total time=   1.2s\n",
      "[CV] END boosting_type=goss, learning_rate=0.1, max_depth=8, n_estimators=250, num_leaves=256; total time=   0.8s\n",
      "[CV] END boosting_type=goss, learning_rate=0.1, max_depth=8, n_estimators=250, num_leaves=256; total time=   1.2s\n",
      "[CV] END boosting_type=goss, learning_rate=0.1, max_depth=8, n_estimators=250, num_leaves=256; total time=   1.5s\n",
      "[CV] END boosting_type=gbdt, learning_rate=0.1, max_depth=5, n_estimators=500, num_leaves=8; total time=   0.4s\n",
      "[CV] END boosting_type=gbdt, learning_rate=0.1, max_depth=5, n_estimators=500, num_leaves=8; total time=   0.6s\n",
      "[CV] END boosting_type=gbdt, learning_rate=0.1, max_depth=5, n_estimators=500, num_leaves=8; total time=   0.8s\n",
      "[CV] END boosting_type=goss, learning_rate=0.01, max_depth=8, n_estimators=150, num_leaves=64; total time=   0.5s\n",
      "[CV] END boosting_type=goss, learning_rate=0.01, max_depth=8, n_estimators=150, num_leaves=64; total time=   0.8s\n",
      "[CV] END boosting_type=goss, learning_rate=0.01, max_depth=8, n_estimators=150, num_leaves=64; total time=   0.9s\n",
      "[CV] END boosting_type=goss, learning_rate=0.05, max_depth=8, n_estimators=500, num_leaves=32; total time=   1.1s\n",
      "[CV] END boosting_type=goss, learning_rate=0.05, max_depth=8, n_estimators=500, num_leaves=32; total time=   1.3s\n",
      "[CV] END boosting_type=goss, learning_rate=0.05, max_depth=8, n_estimators=500, num_leaves=32; total time=   2.0s\n",
      "[CV] END boosting_type=goss, learning_rate=0.2, max_depth=3, n_estimators=150, num_leaves=128; total time=   0.2s\n",
      "[CV] END boosting_type=goss, learning_rate=0.2, max_depth=3, n_estimators=150, num_leaves=128; total time=   0.2s\n",
      "[CV] END boosting_type=goss, learning_rate=0.2, max_depth=3, n_estimators=150, num_leaves=128; total time=   0.3s\n",
      "[CV] END boosting_type=dart, learning_rate=0.1, max_depth=8, n_estimators=150, num_leaves=128; total time=   1.1s\n",
      "[CV] END boosting_type=dart, learning_rate=0.1, max_depth=8, n_estimators=150, num_leaves=128; total time=   1.7s\n",
      "[CV] END boosting_type=dart, learning_rate=0.1, max_depth=8, n_estimators=150, num_leaves=128; total time=   2.7s\n",
      "[CV] END boosting_type=gbdt, learning_rate=0.05, max_depth=5, n_estimators=100, num_leaves=32; total time=   0.2s\n",
      "[CV] END boosting_type=gbdt, learning_rate=0.05, max_depth=5, n_estimators=100, num_leaves=32; total time=   0.3s\n"
     ]
    },
    {
     "name": "stdout",
     "output_type": "stream",
     "text": [
      "[CV] END boosting_type=gbdt, learning_rate=0.05, max_depth=5, n_estimators=100, num_leaves=32; total time=   0.4s\n",
      "[CV] END boosting_type=dart, learning_rate=0.1, max_depth=5, n_estimators=100, num_leaves=64; total time=   0.4s\n",
      "[CV] END boosting_type=dart, learning_rate=0.1, max_depth=5, n_estimators=100, num_leaves=64; total time=   0.6s\n",
      "[CV] END boosting_type=dart, learning_rate=0.1, max_depth=5, n_estimators=100, num_leaves=64; total time=   0.8s\n",
      "[CV] END boosting_type=gbdt, learning_rate=0.1, max_depth=5, n_estimators=150, num_leaves=128; total time=   0.3s\n",
      "[CV] END boosting_type=gbdt, learning_rate=0.1, max_depth=5, n_estimators=150, num_leaves=128; total time=   0.3s\n",
      "[CV] END boosting_type=gbdt, learning_rate=0.1, max_depth=5, n_estimators=150, num_leaves=128; total time=   0.4s\n",
      "[CV] END boosting_type=goss, learning_rate=0.01, max_depth=8, n_estimators=500, num_leaves=32; total time=   1.4s\n",
      "[CV] END boosting_type=goss, learning_rate=0.01, max_depth=8, n_estimators=500, num_leaves=32; total time=   1.5s\n",
      "[CV] END boosting_type=goss, learning_rate=0.01, max_depth=8, n_estimators=500, num_leaves=32; total time=   2.4s\n",
      "[CV] END boosting_type=goss, learning_rate=0.05, max_depth=8, n_estimators=100, num_leaves=32; total time=   0.2s\n",
      "[CV] END boosting_type=goss, learning_rate=0.05, max_depth=8, n_estimators=100, num_leaves=32; total time=   0.4s\n",
      "[CV] END boosting_type=goss, learning_rate=0.05, max_depth=8, n_estimators=100, num_leaves=32; total time=   0.5s\n",
      "[CV] END boosting_type=dart, learning_rate=0.05, max_depth=8, n_estimators=100, num_leaves=256; total time=   0.7s\n",
      "[CV] END boosting_type=dart, learning_rate=0.05, max_depth=8, n_estimators=100, num_leaves=256; total time=   1.2s\n",
      "[CV] END boosting_type=dart, learning_rate=0.05, max_depth=8, n_estimators=100, num_leaves=256; total time=   1.5s\n",
      "[CV] END boosting_type=goss, learning_rate=0.2, max_depth=8, n_estimators=250, num_leaves=256; total time=   0.8s\n",
      "[CV] END boosting_type=goss, learning_rate=0.2, max_depth=8, n_estimators=250, num_leaves=256; total time=   1.1s\n",
      "[CV] END boosting_type=goss, learning_rate=0.2, max_depth=8, n_estimators=250, num_leaves=256; total time=   1.4s\n",
      "[CV] END boosting_type=dart, learning_rate=0.01, max_depth=3, n_estimators=150, num_leaves=128; total time=   0.3s\n",
      "[CV] END boosting_type=dart, learning_rate=0.01, max_depth=3, n_estimators=150, num_leaves=128; total time=   0.5s\n",
      "[CV] END boosting_type=dart, learning_rate=0.01, max_depth=3, n_estimators=150, num_leaves=128; total time=   0.7s\n",
      "[CV] END boosting_type=goss, learning_rate=0.01, max_depth=8, n_estimators=250, num_leaves=128; total time=   1.2s\n",
      "[CV] END boosting_type=goss, learning_rate=0.01, max_depth=8, n_estimators=250, num_leaves=128; total time=   1.7s\n",
      "[CV] END boosting_type=goss, learning_rate=0.01, max_depth=8, n_estimators=250, num_leaves=128; total time=   2.0s\n",
      "[CV] END boosting_type=dart, learning_rate=0.05, max_depth=3, n_estimators=150, num_leaves=32; total time=   0.3s\n",
      "[CV] END boosting_type=dart, learning_rate=0.05, max_depth=3, n_estimators=150, num_leaves=32; total time=   0.5s\n",
      "[CV] END boosting_type=dart, learning_rate=0.05, max_depth=3, n_estimators=150, num_leaves=32; total time=   0.7s\n",
      "[CV] END boosting_type=gbdt, learning_rate=0.2, max_depth=3, n_estimators=250, num_leaves=64; total time=   0.2s\n",
      "[CV] END boosting_type=gbdt, learning_rate=0.2, max_depth=3, n_estimators=250, num_leaves=64; total time=   0.3s\n",
      "[CV] END boosting_type=gbdt, learning_rate=0.2, max_depth=3, n_estimators=250, num_leaves=64; total time=   0.4s\n",
      "[CV] END boosting_type=dart, learning_rate=0.01, max_depth=8, n_estimators=500, num_leaves=256; total time=   6.4s\n",
      "[CV] END boosting_type=dart, learning_rate=0.01, max_depth=8, n_estimators=500, num_leaves=256; total time=  12.3s\n",
      "[CV] END boosting_type=dart, learning_rate=0.01, max_depth=8, n_estimators=500, num_leaves=256; total time=  18.0s\n",
      "[CV] END boosting_type=gbdt, learning_rate=0.01, max_depth=5, n_estimators=250, num_leaves=32; total time=   0.4s\n",
      "[CV] END boosting_type=gbdt, learning_rate=0.01, max_depth=5, n_estimators=250, num_leaves=32; total time=   0.6s\n",
      "[CV] END boosting_type=gbdt, learning_rate=0.01, max_depth=5, n_estimators=250, num_leaves=32; total time=   0.8s\n",
      "[CV] END boosting_type=goss, learning_rate=0.01, max_depth=5, n_estimators=100, num_leaves=128; total time=   0.2s\n",
      "[CV] END boosting_type=goss, learning_rate=0.01, max_depth=5, n_estimators=100, num_leaves=128; total time=   0.3s\n",
      "[CV] END boosting_type=goss, learning_rate=0.01, max_depth=5, n_estimators=100, num_leaves=128; total time=   0.4s\n",
      "[CV] END boosting_type=goss, learning_rate=0.05, max_depth=3, n_estimators=150, num_leaves=256; total time=   0.1s\n",
      "[CV] END boosting_type=goss, learning_rate=0.05, max_depth=3, n_estimators=150, num_leaves=256; total time=   0.2s\n",
      "[CV] END boosting_type=goss, learning_rate=0.05, max_depth=3, n_estimators=150, num_leaves=256; total time=   0.3s\n",
      "[CV] END boosting_type=gbdt, learning_rate=0.2, max_depth=8, n_estimators=250, num_leaves=32; total time=   0.4s\n",
      "[CV] END boosting_type=gbdt, learning_rate=0.2, max_depth=8, n_estimators=250, num_leaves=32; total time=   0.6s\n",
      "[CV] END boosting_type=gbdt, learning_rate=0.2, max_depth=8, n_estimators=250, num_leaves=32; total time=   0.6s\n",
      "[CV] END boosting_type=dart, learning_rate=0.2, max_depth=5, n_estimators=500, num_leaves=64; total time=   3.1s\n",
      "[CV] END boosting_type=dart, learning_rate=0.2, max_depth=5, n_estimators=500, num_leaves=64; total time=   5.5s\n",
      "[CV] END boosting_type=dart, learning_rate=0.2, max_depth=5, n_estimators=500, num_leaves=64; total time=   7.9s\n",
      "[CV] END boosting_type=goss, learning_rate=0.2, max_depth=3, n_estimators=100, num_leaves=8; total time=   0.1s\n",
      "[CV] END boosting_type=goss, learning_rate=0.2, max_depth=3, n_estimators=100, num_leaves=8; total time=   0.2s\n",
      "[CV] END boosting_type=goss, learning_rate=0.2, max_depth=3, n_estimators=100, num_leaves=8; total time=   0.2s\n",
      "[CV] END boosting_type=gbdt, learning_rate=0.2, max_depth=8, n_estimators=250, num_leaves=256; total time=   0.6s\n",
      "[CV] END boosting_type=gbdt, learning_rate=0.2, max_depth=8, n_estimators=250, num_leaves=256; total time=   0.9s\n",
      "[CV] END boosting_type=gbdt, learning_rate=0.2, max_depth=8, n_estimators=250, num_leaves=256; total time=   1.2s\n",
      "[CV] END boosting_type=gbdt, learning_rate=0.01, max_depth=8, n_estimators=500, num_leaves=8; total time=   0.5s\n",
      "[CV] END boosting_type=gbdt, learning_rate=0.01, max_depth=8, n_estimators=500, num_leaves=8; total time=   0.7s\n",
      "[CV] END boosting_type=gbdt, learning_rate=0.01, max_depth=8, n_estimators=500, num_leaves=8; total time=   0.9s\n",
      "[CV] END boosting_type=gbdt, learning_rate=0.2, max_depth=5, n_estimators=150, num_leaves=256; total time=   0.2s\n",
      "[CV] END boosting_type=gbdt, learning_rate=0.2, max_depth=5, n_estimators=150, num_leaves=256; total time=   0.3s\n",
      "[CV] END boosting_type=gbdt, learning_rate=0.2, max_depth=5, n_estimators=150, num_leaves=256; total time=   0.4s\n",
      "[CV] END boosting_type=dart, learning_rate=0.05, max_depth=5, n_estimators=500, num_leaves=128; total time=   2.9s\n",
      "[CV] END boosting_type=dart, learning_rate=0.05, max_depth=5, n_estimators=500, num_leaves=128; total time=   5.4s\n",
      "[CV] END boosting_type=dart, learning_rate=0.05, max_depth=5, n_estimators=500, num_leaves=128; total time=   9.5s\n",
      "[CV] END boosting_type=gbdt, learning_rate=0.1, max_depth=8, n_estimators=250, num_leaves=256; total time=   0.8s\n",
      "[CV] END boosting_type=gbdt, learning_rate=0.1, max_depth=8, n_estimators=250, num_leaves=256; total time=   1.1s\n",
      "[CV] END boosting_type=gbdt, learning_rate=0.1, max_depth=8, n_estimators=250, num_leaves=256; total time=   1.7s\n",
      "[CV] END boosting_type=dart, learning_rate=0.05, max_depth=8, n_estimators=250, num_leaves=8; total time=   0.8s\n",
      "[CV] END boosting_type=dart, learning_rate=0.05, max_depth=8, n_estimators=250, num_leaves=8; total time=   1.2s\n",
      "[CV] END boosting_type=dart, learning_rate=0.05, max_depth=8, n_estimators=250, num_leaves=8; total time=   1.7s\n",
      "[CV] END boosting_type=gbdt, learning_rate=0.05, max_depth=3, n_estimators=500, num_leaves=32; total time=   0.4s\n",
      "[CV] END boosting_type=gbdt, learning_rate=0.05, max_depth=3, n_estimators=500, num_leaves=32; total time=   0.6s\n"
     ]
    },
    {
     "name": "stdout",
     "output_type": "stream",
     "text": [
      "[CV] END boosting_type=gbdt, learning_rate=0.05, max_depth=3, n_estimators=500, num_leaves=32; total time=   0.7s\n",
      "[CV] END boosting_type=gbdt, learning_rate=0.01, max_depth=3, n_estimators=100, num_leaves=64; total time=   0.1s\n",
      "[CV] END boosting_type=gbdt, learning_rate=0.01, max_depth=3, n_estimators=100, num_leaves=64; total time=   0.2s\n",
      "[CV] END boosting_type=gbdt, learning_rate=0.01, max_depth=3, n_estimators=100, num_leaves=64; total time=   0.2s\n",
      "[CV] END boosting_type=goss, learning_rate=0.05, max_depth=3, n_estimators=150, num_leaves=128; total time=   0.2s\n",
      "[CV] END boosting_type=goss, learning_rate=0.05, max_depth=3, n_estimators=150, num_leaves=128; total time=   0.2s\n",
      "[CV] END boosting_type=goss, learning_rate=0.05, max_depth=3, n_estimators=150, num_leaves=128; total time=   0.3s\n",
      "[CV] END boosting_type=gbdt, learning_rate=0.05, max_depth=8, n_estimators=150, num_leaves=256; total time=   0.7s\n",
      "[CV] END boosting_type=gbdt, learning_rate=0.05, max_depth=8, n_estimators=150, num_leaves=256; total time=   0.9s\n",
      "[CV] END boosting_type=gbdt, learning_rate=0.05, max_depth=8, n_estimators=150, num_leaves=256; total time=   1.2s\n",
      "RandomizedSearchCV took 403.37 seconds for 100 candidates parameter settings.\n"
     ]
    }
   ],
   "source": [
    "import lightgbm as lgb\n",
    "\n",
    "# n_estimators doit être tune plus tard\n",
    "# car les paramètres échantillonnés avec des n_estimators plus élevés\n",
    "# obtiendront un avantage injuste (default=100)\n",
    "params = {\n",
    "    'n_estimators': [100, 150, 250, 500],\n",
    "    'num_leaves':  [8, 32, 64, 128, 256],\n",
    "    'max_depth': [3, 5, 8],\n",
    "    'boosting_type': ['gbdt', 'dart', 'goss'],\n",
    "    'learning_rate': [0.01, 0.05,  0.1, 0.2]}\n",
    " \n",
    "lgbr = lgb.LGBMRegressor(seed=42)\n",
    "\n",
    "n_iter_search = 100\n",
    "random_search = RandomizedSearchCV(lgbr, param_distributions=params, verbose=2,\n",
    "                                   n_iter=n_iter_search, cv=cv_ts, scoring='neg_mean_squared_error', random_state=42)\n",
    "\n",
    "start = time.time()\n",
    "random_search.fit(X_train, y_train)\n",
    "print(\"RandomizedSearchCV took %.2f seconds for %d candidates\"\n",
    "      \" parameter settings.\" % ((time.time() - start), n_iter_search))"
   ]
  },
  {
   "cell_type": "code",
   "execution_count": 80,
   "id": "3c8427e9",
   "metadata": {
    "ExecuteTime": {
     "end_time": "2021-06-22T15:31:17.149970Z",
     "start_time": "2021-06-22T15:31:16.862865Z"
    }
   },
   "outputs": [
    {
     "data": {
      "text/plain": [
       "LGBMRegressor(max_depth=5, n_estimators=150, num_leaves=8)"
      ]
     },
     "execution_count": 80,
     "metadata": {},
     "output_type": "execute_result"
    }
   ],
   "source": [
    "best_lgbr = lgb.LGBMRegressor(max_depth=5, n_estimators=150, num_leaves=8)\n",
    "best_lgbr.fit(X_train, y_train)"
   ]
  },
  {
   "cell_type": "code",
   "execution_count": 81,
   "id": "0d6be419",
   "metadata": {
    "ExecuteTime": {
     "end_time": "2021-06-22T15:31:20.779819Z",
     "start_time": "2021-06-22T15:31:20.760961Z"
    }
   },
   "outputs": [
    {
     "name": "stdout",
     "output_type": "stream",
     "text": [
      "Root Mean Square Error            = 22.094410468949704\n",
      "Mean Absolute Error               = 15.99914128977054\n",
      "Median Absolute Error             = 12.415289455391928\n"
     ]
    }
   ],
   "source": [
    "y_pred = best_lgbr.predict(X_test)\n",
    "print_metrics(y_test**2, y_pred**2)"
   ]
  },
  {
   "cell_type": "code",
   "execution_count": 84,
   "id": "86d74d16",
   "metadata": {
    "ExecuteTime": {
     "end_time": "2021-06-22T15:31:32.407372Z",
     "start_time": "2021-06-22T15:31:32.397224Z"
    }
   },
   "outputs": [],
   "source": [
    "pickle.dump(best_lgbr, open('models/best_lgbr.sav', 'wb'))"
   ]
  },
  {
   "cell_type": "markdown",
   "id": "05a04afe",
   "metadata": {
    "ExecuteTime": {
     "end_time": "2021-06-22T09:46:57.051604Z",
     "start_time": "2021-06-22T09:46:57.046289Z"
    }
   },
   "source": [
    "On observe des résulats très solides de la part de XGBoost et LGBM."
   ]
  },
  {
   "cell_type": "markdown",
   "id": "5555705c",
   "metadata": {},
   "source": [
    "## Conclusion\n",
    "\n",
    "Mon package de sélection de modèle a rendu ses conclusions. Encore une fois, celui-ci n'est pas omniscient et est encore très perfectible. En effet, il est tout simplement impossible de créer un package qui balaye de façon exhaustive tous les espaces d'hyperparamètres et ce pour chaque jeu de données. Cependant, c'est un outil riche d'enseignement quant au type de modèle à utiliser pour tel ou tel dataset. Ici très clairement les modèles à base d'arbres sont les grands gagnants et cela n'est pas si surprenant car on l'a constaté lors de l'EDA, les relations entre les prédicteurs et la variable indépendantes ne sont la plupart du temps pas linéaires, mais bien plus complexes.\n",
    "\n",
    "Afin d'aller au bout des choses, il serait intéressant de retenir les principaux modèles sélectionnés et des les tuner avec une autre technique que Gridsearch : l'optimisation Bayésienne. De plus, il serait utile de tenter des méthodes d'agrégation de modèles afin de voir si l'on peut encore progresser en termes de performance.\n",
    "\n",
    "Les modèles avec lesquels je souhaite poursuivre l'exploration :\n",
    "- ElasticNet et LassoLars\n",
    "- Multilayer perceptron\n",
    "- Random Forest\n",
    "- XGBoost et LightGBM\n",
    "\n"
   ]
  },
  {
   "cell_type": "code",
   "execution_count": null,
   "id": "e8d2e753",
   "metadata": {},
   "outputs": [],
   "source": []
  }
 ],
 "metadata": {
  "kernelspec": {
   "display_name": "Python 3.6.9 64-bit",
   "language": "python",
   "name": "python36964bita6f673b58d6e4aec8f355357da510dd9"
  },
  "language_info": {
   "codemirror_mode": {
    "name": "ipython",
    "version": 3
   },
   "file_extension": ".py",
   "mimetype": "text/x-python",
   "name": "python",
   "nbconvert_exporter": "python",
   "pygments_lexer": "ipython3",
   "version": "3.8.11"
  }
 },
 "nbformat": 4,
 "nbformat_minor": 5
}
